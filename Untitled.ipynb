{
 "cells": [
  {
   "cell_type": "code",
   "execution_count": 5,
   "id": "219f4c7b-fbcd-4494-b18d-810be879bede",
   "metadata": {},
   "outputs": [],
   "source": [
    "import json"
   ]
  },
  {
   "cell_type": "code",
   "execution_count": 8,
   "id": "23277741-c089-4f3b-aef4-573c321c83b5",
   "metadata": {},
   "outputs": [
    {
     "data": {
      "text/plain": [
       "{'agent': {'agent_name': '', 'llm': '', 'embedding_model': ''},\n",
       " 'prompts': {'raw': '', 'mod': ''},\n",
       " 'criteria': {'user_criteria': [{'name': '',\n",
       "    'raw': '',\n",
       "    'mod': '',\n",
       "    'embedding': []}],\n",
       "  'agent_criteria': [{'name': '', 'raw': '', 'mod': '', 'embedding': []}]}}"
      ]
     },
     "execution_count": 8,
     "metadata": {},
     "output_type": "execute_result"
    }
   ],
   "source": [
    "f = open('/Users/kaihayden/Desktop/midas/agent_example.json',)\n",
    "\n",
    "json.load(f)"
   ]
  },
  {
   "cell_type": "code",
   "execution_count": null,
   "id": "1819c98a-6b99-4cdd-8733-0484c147e437",
   "metadata": {},
   "outputs": [],
   "source": [
    "class Midas:\n",
    "\n",
    "    def __init__():\n",
    "\n",
    "        self.agent = {}\n",
    "        self.prompts = {}\n",
    "        self.criteria = {}\n",
    "\n",
    "    def load(f):\n",
    "\n",
    "        self.a"
   ]
  }
 ],
 "metadata": {
  "kernelspec": {
   "display_name": "Python 3 (ipykernel)",
   "language": "python",
   "name": "python3"
  },
  "language_info": {
   "codemirror_mode": {
    "name": "ipython",
    "version": 3
   },
   "file_extension": ".py",
   "mimetype": "text/x-python",
   "name": "python",
   "nbconvert_exporter": "python",
   "pygments_lexer": "ipython3",
   "version": "3.12.0"
  }
 },
 "nbformat": 4,
 "nbformat_minor": 5
}
