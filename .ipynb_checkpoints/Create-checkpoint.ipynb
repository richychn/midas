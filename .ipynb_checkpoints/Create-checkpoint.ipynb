{
 "cells": [
  {
   "cell_type": "code",
   "execution_count": 19,
   "id": "8ea53160-fb2f-4f03-bae1-6ce79877859f",
   "metadata": {},
   "outputs": [],
   "source": [
    "raw_prompt = \"\"\"\n",
    "For each item that the buyer agreed to purchase, return the item name, item description, quantity purchased, unit price in dollars, unit discount in dollars, and final total price per item (quantity * (unit price - unit discount)) . Each sku of the purchased item should be treated as a separate item.\n",
    "\n",
    "Output the result in dictionary format following the example below. Each line item should have its own list under lineItems. Include all non quantity and price related details of each item under its description.\n",
    "\n",
    "{ \"orderDetails\":{ \"orderDate\": \"\", \"orderNum\": null, }, \"buyer\":{ \"companyName\": \"\", \"pointOfContact\": \"\", \"contactEmail\": \"\", \"contactPhone\": \"\", \"shippingAddress\": \"\", }, \"lineItems\":[{ \"itemNumber\": null, \"description\": \"\", \"quantity\": null, \"unitPrice\": null, \"discount\": null, “totalPrice”: null}]}\n",
    "\"\"\""
   ]
  },
  {
   "cell_type": "code",
   "execution_count": 1,
   "id": "7feb5efc-a9a0-43d5-b568-a6989e05e77f",
   "metadata": {},
   "outputs": [],
   "source": [
    "raw_prompt = \"\"\"\n",
    "For each item that the buyer agreed to purchase, return the item name, item description, quantity purchased, unit price in dollars, unit discount in dollars, and final total price per item calculated as quantity * (unit price - unit discount). Treat each SKU of the purchased item as a separate entity.\n",
    "\n",
    "Please output the result as an actual Python dictionary object, not as a string. Each line item should be represented under `lineItems`. Include all non-quantity and price-related details of each item within its `description` as a string.\n",
    "\n",
    "Ensure to include the order date and provide a placeholder for the order number if it's not available. For the buyer information, include the company name, point of contact, contact email, and also ensure to fill in the contact phone and shipping address or explicitly note if these are intentionally left blank.\n",
    "\n",
    "The expected format is as follows:\n",
    "\n",
    "{\n",
    "  \"orderDetails\": {\n",
    "    \"orderDate\": \"YYYY-MM-DD\",\n",
    "    \"orderNum\": \"placeholder or specific reason for absence\",\n",
    "  },\n",
    "  \"buyer\": {\n",
    "    \"companyName\": \"Example Company\",\n",
    "    \"pointOfContact\": \"John Doe\",\n",
    "    \"contactEmail\": \"john.doe@example.com\",\n",
    "    \"contactPhone\": \"123-456-7890\",\n",
    "    \"shippingAddress\": \"123 Example St, City, Country\",\n",
    "  },\n",
    "  \"lineItems\": [\n",
    "    {\n",
    "      \"itemNumber\": \"SKU123\",\n",
    "      \"description\": \"Item description here\",\n",
    "      \"quantity\": 1,\n",
    "      \"unitPrice\": 100.00,\n",
    "      \"discount\": 5.00,\n",
    "      “totalPrice”: 95.00\n",
    "    }\n",
    "  ]\n",
    "}\n",
    "\"\"\""
   ]
  },
  {
   "cell_type": "code",
   "execution_count": 20,
   "id": "8ab1c0e4-9b7c-4db9-86f5-b706c93a9a70",
   "metadata": {},
   "outputs": [],
   "source": [
    "from midas.agent import Midas"
   ]
  },
  {
   "cell_type": "code",
   "execution_count": 21,
   "id": "0f6d9b0a-b07c-4483-be0f-bf44f6477a7d",
   "metadata": {},
   "outputs": [],
   "source": [
    "new_agent = Midas()"
   ]
  },
  {
   "cell_type": "code",
   "execution_count": null,
   "id": "57aecb0f-ed2c-4d8e-a28f-6422e9099310",
   "metadata": {},
   "outputs": [],
   "source": [
    "new_agent.set_objective(raw_prompt)"
   ]
  },
  {
   "cell_type": "code",
   "execution_count": null,
   "id": "723c6b5c-f10d-4b4c-bcce-0964ad0834c5",
   "metadata": {},
   "outputs": [],
   "source": [
    "new_agent.add_criteria(\n",
    "    [\n",
    "        {\"format\": \"the format should be outputted as a single string representing a JSON object containing no newlines\"},\n",
    "        {\"no_markdown\": \"the output should not be in markdown, it should not contain backticks\"}\n",
    "    ]\n",
    ")"
   ]
  },
  {
   "cell_type": "code",
   "execution_count": 20,
   "id": "491a651f-4212-41df-92ce-519537772d05",
   "metadata": {},
   "outputs": [],
   "source": [
    "# new_agent.save('/Users/kaihayden/Desktop/midas/first_subquery_save.json')"
   ]
  },
  {
   "cell_type": "code",
   "execution_count": null,
   "id": "958f072c-d4e7-44c0-96dd-3b9c3a84a046",
   "metadata": {},
   "outputs": [],
   "source": [
    "new_agent.save('/Users/kaihayden/Desktop/midas/second_subquery_save.json')"
   ]
  },
  {
   "cell_type": "code",
   "execution_count": null,
   "id": "5c8de818-8a09-4056-866c-443206bc1d94",
   "metadata": {},
   "outputs": [],
   "source": [
    "new_agent"
   ]
  },
  {
   "cell_type": "code",
   "execution_count": null,
   "id": "33fb314e-ab38-416f-a04b-c557a38f09a9",
   "metadata": {},
   "outputs": [],
   "source": []
  },
  {
   "cell_type": "code",
   "execution_count": null,
   "id": "fc30f4a7-d573-4e1b-814d-6df84058e416",
   "metadata": {},
   "outputs": [],
   "source": []
  },
  {
   "cell_type": "code",
   "execution_count": null,
   "id": "a615b68c-ba3b-4f2b-a3ff-22ff2c839603",
   "metadata": {},
   "outputs": [],
   "source": []
  }
 ],
 "metadata": {
  "kernelspec": {
   "display_name": "Python 3 (ipykernel)",
   "language": "python",
   "name": "python3"
  },
  "language_info": {
   "codemirror_mode": {
    "name": "ipython",
    "version": 3
   },
   "file_extension": ".py",
   "mimetype": "text/x-python",
   "name": "python",
   "nbconvert_exporter": "python",
   "pygments_lexer": "ipython3",
   "version": "3.12.0"
  }
 },
 "nbformat": 4,
 "nbformat_minor": 5
}
