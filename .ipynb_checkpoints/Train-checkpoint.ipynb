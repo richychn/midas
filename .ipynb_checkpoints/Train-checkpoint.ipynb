{
 "cells": [
  {
   "cell_type": "code",
   "execution_count": 1,
   "id": "985f06a7-0b7a-40ef-81bb-38642b6b4352",
   "metadata": {},
   "outputs": [],
   "source": [
    "filepath='/Users/kaihayden/Desktop/midas/agent_example.json'"
   ]
  },
  {
   "cell_type": "code",
   "execution_count": 2,
   "id": "23277741-c089-4f3b-aef4-573c321c83b5",
   "metadata": {},
   "outputs": [],
   "source": [
    "from midas.agent import Midas"
   ]
  },
  {
   "cell_type": "code",
   "execution_count": 3,
   "id": "4830be4c-9f16-4c9f-8a78-267116d6c8a2",
   "metadata": {},
   "outputs": [],
   "source": [
    "midas_agent = Midas()\n",
    "\n",
    "midas_agent.load(filepath)"
   ]
  },
  {
   "cell_type": "code",
   "execution_count": 4,
   "id": "0b746720-4740-443a-b15c-48b143ffcd16",
   "metadata": {},
   "outputs": [],
   "source": [
    "midas_agent.save('/Users/kaihayden/Desktop/midas/agent_example_save.json')"
   ]
  },
  {
   "cell_type": "code",
   "execution_count": 5,
   "id": "31da0319-6865-4dc2-9c61-3b38d674bcd9",
   "metadata": {},
   "outputs": [
    {
     "data": {
      "text/plain": [
       "Midas(\n",
       "    Agent(\n",
       "        name=placeholder_name,\n",
       "        language_model=placeholder_llm,\n",
       "        embedding_model=placeholder_emb\n",
       "    )\n",
       "    Prompt(\n",
       "        raw=raw prompt,\n",
       "        mod=mod prompt,\n",
       "    )\n",
       "    SubQueryStruct(\n",
       "        subquery_name,\n",
       "\tsubquery_name_2\n",
       "    )\n",
       "    CriteriaStruct(\n",
       "        UserCriteria(\n",
       "            criteria_name,\n",
       "\tcriteria_name_2\n",
       "        )\n",
       "        AgentCriteria(\n",
       "            criteria_name\n",
       "        )\n",
       "    )\n",
       ")"
      ]
     },
     "execution_count": 5,
     "metadata": {},
     "output_type": "execute_result"
    }
   ],
   "source": [
    "midas_agent"
   ]
  },
  {
   "cell_type": "code",
   "execution_count": null,
   "id": "68cc8597-5b1f-4fdc-a30d-6f99f16bc6e7",
   "metadata": {},
   "outputs": [],
   "source": []
  }
 ],
 "metadata": {
  "kernelspec": {
   "display_name": "Python 3 (ipykernel)",
   "language": "python",
   "name": "python3"
  },
  "language_info": {
   "codemirror_mode": {
    "name": "ipython",
    "version": 3
   },
   "file_extension": ".py",
   "mimetype": "text/x-python",
   "name": "python",
   "nbconvert_exporter": "python",
   "pygments_lexer": "ipython3",
   "version": "3.12.0"
  }
 },
 "nbformat": 4,
 "nbformat_minor": 5
}
