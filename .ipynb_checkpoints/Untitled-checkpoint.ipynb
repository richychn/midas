{
 "cells": [
  {
   "cell_type": "code",
   "execution_count": 1,
   "id": "219f4c7b-fbcd-4494-b18d-810be879bede",
   "metadata": {},
   "outputs": [],
   "source": [
    "import json"
   ]
  },
  {
   "cell_type": "code",
   "execution_count": 2,
   "id": "23277741-c089-4f3b-aef4-573c321c83b5",
   "metadata": {},
   "outputs": [
    {
     "data": {
      "text/plain": [
       "{'agent': {'name': '', 'language_model': '', 'embedding_model': ''},\n",
       " 'prompts': {'raw': '', 'mod': ''},\n",
       " 'criteria': {'user_criteria': [{'name': '',\n",
       "    'raw': '',\n",
       "    'mod': '',\n",
       "    'embedding': []}],\n",
       "  'agent_criteria': [{'name': '', 'raw': '', 'mod': '', 'embedding': []}]}}"
      ]
     },
     "execution_count": 2,
     "metadata": {},
     "output_type": "execute_result"
    }
   ],
   "source": [
    "f = open('/Users/kaihayden/Desktop/midas/agent_example.json',)\n",
    "\n",
    "json.load(f)"
   ]
  },
  {
   "cell_type": "code",
   "execution_count": 3,
   "id": "1819c98a-6b99-4cdd-8733-0484c147e437",
   "metadata": {},
   "outputs": [
    {
     "ename": "SyntaxError",
     "evalue": "invalid syntax (4005051341.py, line 15)",
     "output_type": "error",
     "traceback": [
      "\u001b[0;36m  Cell \u001b[0;32mIn[3], line 15\u001b[0;36m\u001b[0m\n\u001b[0;31m    self.agent =\u001b[0m\n\u001b[0m                 ^\u001b[0m\n\u001b[0;31mSyntaxError\u001b[0m\u001b[0;31m:\u001b[0m invalid syntax\n"
     ]
    }
   ],
   "source": [
    "class Midas:\n",
    "\n",
    "    def __init__():\n",
    "\n",
    "        self.agent = {\n",
    "            'name': '',\n",
    "            'language_model': '',\n",
    "            'embedding_model': '',\n",
    "        }\n",
    "        self.prompts = {\n",
    "            'raw':'',\n",
    "            'mod':''\n",
    "        }\n",
    "        self.criteria = {}\n",
    "\n",
    "    def load(f):\n",
    "\n",
    "        self.agent = "
   ]
  },
  {
   "cell_type": "code",
   "execution_count": null,
   "id": "4830be4c-9f16-4c9f-8a78-267116d6c8a2",
   "metadata": {},
   "outputs": [],
   "source": []
  }
 ],
 "metadata": {
  "kernelspec": {
   "display_name": "Python 3 (ipykernel)",
   "language": "python",
   "name": "python3"
  },
  "language_info": {
   "codemirror_mode": {
    "name": "ipython",
    "version": 3
   },
   "file_extension": ".py",
   "mimetype": "text/x-python",
   "name": "python",
   "nbconvert_exporter": "python",
   "pygments_lexer": "ipython3",
   "version": "3.12.0"
  }
 },
 "nbformat": 4,
 "nbformat_minor": 5
}
