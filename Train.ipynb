{
 "cells": [
  {
   "cell_type": "code",
   "execution_count": 15,
   "id": "07833783-2003-4cb1-a2b5-32beac2d65cd",
   "metadata": {},
   "outputs": [],
   "source": [
    "import json"
   ]
  },
  {
   "cell_type": "code",
   "execution_count": 1,
   "id": "778c4454-2f16-490b-a009-9ac6080f683f",
   "metadata": {},
   "outputs": [],
   "source": [
    "from midas.agent import Midas\n",
    "from datetime import datetime"
   ]
  },
  {
   "cell_type": "code",
   "execution_count": 44,
   "id": "985f06a7-0b7a-40ef-81bb-38642b6b4352",
   "metadata": {},
   "outputs": [],
   "source": [
    "filepath_1='/Users/kaihayden/Desktop/midas/first_subquery_save.json'\n",
    "filepath_2='/Users/kaihayden/Desktop/midas/second_subquery_save.json'"
   ]
  },
  {
   "cell_type": "code",
   "execution_count": 45,
   "id": "4830be4c-9f16-4c9f-8a78-267116d6c8a2",
   "metadata": {},
   "outputs": [],
   "source": [
    "agent_1 = Midas()\n",
    "agent_1.load(filepath_1)"
   ]
  },
  {
   "cell_type": "code",
   "execution_count": 46,
   "id": "f79f95f9-0e41-4abc-a4f5-a3d0cfd5d342",
   "metadata": {},
   "outputs": [],
   "source": [
    "def parse_date(d):\n",
    "    return datetime.strptime(d['metadata']['date'], '%m/%d/%Y, %H:%M')"
   ]
  },
  {
   "cell_type": "code",
   "execution_count": 47,
   "id": "b9b68541-b90b-4869-9f1d-cd84a31f832e",
   "metadata": {},
   "outputs": [],
   "source": [
    "output = agent_1.run(convo_id=0, sort_key=parse_date)"
   ]
  },
  {
   "cell_type": "code",
   "execution_count": null,
   "id": "529b3e6a-aeed-4167-976f-c2a1f5da03a9",
   "metadata": {},
   "outputs": [],
   "source": [
    "output, eval, mod = agent_1.evaluate(convo_id=0, sort_key=parse_date)\n"
   ]
  },
  {
   "cell_type": "code",
   "execution_count": null,
   "id": "cdf0cad8-5114-408b-ae7a-64d35ef6e1e9",
   "metadata": {},
   "outputs": [],
   "source": [
    "print(eval)"
   ]
  },
  {
   "cell_type": "code",
   "execution_count": null,
   "id": "38278436-3117-4fd5-a3a8-af6463b3c0e5",
   "metadata": {},
   "outputs": [],
   "source": [
    "print(agent_1.prompt.raw)"
   ]
  },
  {
   "cell_type": "code",
   "execution_count": null,
   "id": "e71f6995-7ef5-4440-b668-6bbdfb3aa51c",
   "metadata": {},
   "outputs": [],
   "source": [
    "print(mod)"
   ]
  },
  {
   "cell_type": "code",
   "execution_count": null,
   "id": "0f3699fd-0db5-4e4a-b8c0-0209d44e25a4",
   "metadata": {},
   "outputs": [],
   "source": []
  },
  {
   "cell_type": "code",
   "execution_count": 37,
   "id": "bab60960-bb22-4df4-88cf-e54b06915664",
   "metadata": {},
   "outputs": [],
   "source": [
    "agent_2 = Midas()\n",
    "agent_2.load(filepath_2)"
   ]
  },
  {
   "cell_type": "code",
   "execution_count": 38,
   "id": "4f2131ae-7a21-4438-9a77-2c97c173bc0c",
   "metadata": {},
   "outputs": [],
   "source": [
    "output = agent_2.run(convo_id=0, sort_key=parse_date)"
   ]
  },
  {
   "cell_type": "code",
   "execution_count": 43,
   "id": "7901134a-a790-4e91-a75a-01e9fe486a53",
   "metadata": {},
   "outputs": [
    {
     "data": {
      "text/plain": [
       "'{\\n  \"orderDetails\": {\\n    \"orderDate\": \"2024-02-03\",\\n    \"orderNum\": \"Order number to be provided by AllSaints\",\\n  },\\n  \"buyer\": {\\n    \"companyName\": \"LlamaIndex\",\\n    \"pointOfContact\": \"Hagoromo Chalk\",\\n    \"contactEmail\": \"hagoromorphism@gmail.com\",\\n    \"contactPhone\": \"Intentionally left blank\",\\n    \"shippingAddress\": \"Intentionally left blank\",\\n  },\\n  \"lineItems\": [\\n    {\\n      \"itemNumber\": \"SKU-BluePink-Small\",\\n      \"description\": \"Blue and Pink Multi-Colored Hoodie, Size Small, Custom-branded for LlamaIndex Hackathon\",\\n      \"quantity\": 15,\\n      \"unitPrice\": 300.00,\\n      \"discount\": 30.00,\\n      \"totalPrice\": 4050.00\\n    },\\n    {\\n      \"itemNumber\": \"SKU-BluePink-Medium\",\\n      \"description\": \"Blue and Pink Multi-Colored Hoodie, Size Medium, Custom-branded for LlamaIndex Hackathon\",\\n      \"quantity\": 15,\\n      \"unitPrice\": 300.00,\\n      \"discount\": 30.00,\\n      \"totalPrice\": 4050.00\\n    },\\n    {\\n      \"itemNumber\": \"SKU-BluePink-Large\",\\n      \"description\": \"Blue and Pink Multi-Colored Hoodie, Size Large, Custom-branded for LlamaIndex Hackathon\",\\n      \"quantity\": 20,\\n      \"unitPrice\": 300.00,\\n      \"discount\": 30.00,\\n      \"totalPrice\": 5400.00\\n    }\\n  ]\\n}'"
      ]
     },
     "execution_count": 43,
     "metadata": {},
     "output_type": "execute_result"
    }
   ],
   "source": [
    "output"
   ]
  },
  {
   "cell_type": "code",
   "execution_count": 41,
   "id": "6403d074-88b9-46ac-b1a4-88e5329de730",
   "metadata": {},
   "outputs": [
    {
     "ename": "JSONDecodeError",
     "evalue": "Expecting property name enclosed in double quotes: line 5 column 3 (char 115)",
     "output_type": "error",
     "traceback": [
      "\u001b[0;31m---------------------------------------------------------------------------\u001b[0m",
      "\u001b[0;31mJSONDecodeError\u001b[0m                           Traceback (most recent call last)",
      "Cell \u001b[0;32mIn[41], line 1\u001b[0m\n\u001b[0;32m----> 1\u001b[0m \u001b[38;5;28mprint\u001b[39m(json\u001b[38;5;241m.\u001b[39mdumps(\u001b[43mjson\u001b[49m\u001b[38;5;241;43m.\u001b[39;49m\u001b[43mloads\u001b[49m\u001b[43m(\u001b[49m\u001b[43moutput\u001b[49m\u001b[43m)\u001b[49m, indent\u001b[38;5;241m=\u001b[39m\u001b[38;5;241m4\u001b[39m))\n",
      "File \u001b[0;32m~/.pyenv/versions/3.12.0/lib/python3.12/json/__init__.py:346\u001b[0m, in \u001b[0;36mloads\u001b[0;34m(s, cls, object_hook, parse_float, parse_int, parse_constant, object_pairs_hook, **kw)\u001b[0m\n\u001b[1;32m    341\u001b[0m     s \u001b[38;5;241m=\u001b[39m s\u001b[38;5;241m.\u001b[39mdecode(detect_encoding(s), \u001b[38;5;124m'\u001b[39m\u001b[38;5;124msurrogatepass\u001b[39m\u001b[38;5;124m'\u001b[39m)\n\u001b[1;32m    343\u001b[0m \u001b[38;5;28;01mif\u001b[39;00m (\u001b[38;5;28mcls\u001b[39m \u001b[38;5;129;01mis\u001b[39;00m \u001b[38;5;28;01mNone\u001b[39;00m \u001b[38;5;129;01mand\u001b[39;00m object_hook \u001b[38;5;129;01mis\u001b[39;00m \u001b[38;5;28;01mNone\u001b[39;00m \u001b[38;5;129;01mand\u001b[39;00m\n\u001b[1;32m    344\u001b[0m         parse_int \u001b[38;5;129;01mis\u001b[39;00m \u001b[38;5;28;01mNone\u001b[39;00m \u001b[38;5;129;01mand\u001b[39;00m parse_float \u001b[38;5;129;01mis\u001b[39;00m \u001b[38;5;28;01mNone\u001b[39;00m \u001b[38;5;129;01mand\u001b[39;00m\n\u001b[1;32m    345\u001b[0m         parse_constant \u001b[38;5;129;01mis\u001b[39;00m \u001b[38;5;28;01mNone\u001b[39;00m \u001b[38;5;129;01mand\u001b[39;00m object_pairs_hook \u001b[38;5;129;01mis\u001b[39;00m \u001b[38;5;28;01mNone\u001b[39;00m \u001b[38;5;129;01mand\u001b[39;00m \u001b[38;5;129;01mnot\u001b[39;00m kw):\n\u001b[0;32m--> 346\u001b[0m     \u001b[38;5;28;01mreturn\u001b[39;00m \u001b[43m_default_decoder\u001b[49m\u001b[38;5;241;43m.\u001b[39;49m\u001b[43mdecode\u001b[49m\u001b[43m(\u001b[49m\u001b[43ms\u001b[49m\u001b[43m)\u001b[49m\n\u001b[1;32m    347\u001b[0m \u001b[38;5;28;01mif\u001b[39;00m \u001b[38;5;28mcls\u001b[39m \u001b[38;5;129;01mis\u001b[39;00m \u001b[38;5;28;01mNone\u001b[39;00m:\n\u001b[1;32m    348\u001b[0m     \u001b[38;5;28mcls\u001b[39m \u001b[38;5;241m=\u001b[39m JSONDecoder\n",
      "File \u001b[0;32m~/.pyenv/versions/3.12.0/lib/python3.12/json/decoder.py:337\u001b[0m, in \u001b[0;36mJSONDecoder.decode\u001b[0;34m(self, s, _w)\u001b[0m\n\u001b[1;32m    332\u001b[0m \u001b[38;5;28;01mdef\u001b[39;00m \u001b[38;5;21mdecode\u001b[39m(\u001b[38;5;28mself\u001b[39m, s, _w\u001b[38;5;241m=\u001b[39mWHITESPACE\u001b[38;5;241m.\u001b[39mmatch):\n\u001b[1;32m    333\u001b[0m \u001b[38;5;250m    \u001b[39m\u001b[38;5;124;03m\"\"\"Return the Python representation of ``s`` (a ``str`` instance\u001b[39;00m\n\u001b[1;32m    334\u001b[0m \u001b[38;5;124;03m    containing a JSON document).\u001b[39;00m\n\u001b[1;32m    335\u001b[0m \n\u001b[1;32m    336\u001b[0m \u001b[38;5;124;03m    \"\"\"\u001b[39;00m\n\u001b[0;32m--> 337\u001b[0m     obj, end \u001b[38;5;241m=\u001b[39m \u001b[38;5;28;43mself\u001b[39;49m\u001b[38;5;241;43m.\u001b[39;49m\u001b[43mraw_decode\u001b[49m\u001b[43m(\u001b[49m\u001b[43ms\u001b[49m\u001b[43m,\u001b[49m\u001b[43m \u001b[49m\u001b[43midx\u001b[49m\u001b[38;5;241;43m=\u001b[39;49m\u001b[43m_w\u001b[49m\u001b[43m(\u001b[49m\u001b[43ms\u001b[49m\u001b[43m,\u001b[49m\u001b[43m \u001b[49m\u001b[38;5;241;43m0\u001b[39;49m\u001b[43m)\u001b[49m\u001b[38;5;241;43m.\u001b[39;49m\u001b[43mend\u001b[49m\u001b[43m(\u001b[49m\u001b[43m)\u001b[49m\u001b[43m)\u001b[49m\n\u001b[1;32m    338\u001b[0m     end \u001b[38;5;241m=\u001b[39m _w(s, end)\u001b[38;5;241m.\u001b[39mend()\n\u001b[1;32m    339\u001b[0m     \u001b[38;5;28;01mif\u001b[39;00m end \u001b[38;5;241m!=\u001b[39m \u001b[38;5;28mlen\u001b[39m(s):\n",
      "File \u001b[0;32m~/.pyenv/versions/3.12.0/lib/python3.12/json/decoder.py:353\u001b[0m, in \u001b[0;36mJSONDecoder.raw_decode\u001b[0;34m(self, s, idx)\u001b[0m\n\u001b[1;32m    344\u001b[0m \u001b[38;5;250m\u001b[39m\u001b[38;5;124;03m\"\"\"Decode a JSON document from ``s`` (a ``str`` beginning with\u001b[39;00m\n\u001b[1;32m    345\u001b[0m \u001b[38;5;124;03ma JSON document) and return a 2-tuple of the Python\u001b[39;00m\n\u001b[1;32m    346\u001b[0m \u001b[38;5;124;03mrepresentation and the index in ``s`` where the document ended.\u001b[39;00m\n\u001b[0;32m   (...)\u001b[0m\n\u001b[1;32m    350\u001b[0m \n\u001b[1;32m    351\u001b[0m \u001b[38;5;124;03m\"\"\"\u001b[39;00m\n\u001b[1;32m    352\u001b[0m \u001b[38;5;28;01mtry\u001b[39;00m:\n\u001b[0;32m--> 353\u001b[0m     obj, end \u001b[38;5;241m=\u001b[39m \u001b[38;5;28;43mself\u001b[39;49m\u001b[38;5;241;43m.\u001b[39;49m\u001b[43mscan_once\u001b[49m\u001b[43m(\u001b[49m\u001b[43ms\u001b[49m\u001b[43m,\u001b[49m\u001b[43m \u001b[49m\u001b[43midx\u001b[49m\u001b[43m)\u001b[49m\n\u001b[1;32m    354\u001b[0m \u001b[38;5;28;01mexcept\u001b[39;00m \u001b[38;5;167;01mStopIteration\u001b[39;00m \u001b[38;5;28;01mas\u001b[39;00m err:\n\u001b[1;32m    355\u001b[0m     \u001b[38;5;28;01mraise\u001b[39;00m JSONDecodeError(\u001b[38;5;124m\"\u001b[39m\u001b[38;5;124mExpecting value\u001b[39m\u001b[38;5;124m\"\u001b[39m, s, err\u001b[38;5;241m.\u001b[39mvalue) \u001b[38;5;28;01mfrom\u001b[39;00m \u001b[38;5;28;01mNone\u001b[39;00m\n",
      "\u001b[0;31mJSONDecodeError\u001b[0m: Expecting property name enclosed in double quotes: line 5 column 3 (char 115)"
     ]
    }
   ],
   "source": [
    "print(json.dumps(json.loads(output), indent=4))"
   ]
  },
  {
   "cell_type": "code",
   "execution_count": 21,
   "id": "e9674967-365c-4e73-84ec-cb6595d2b06c",
   "metadata": {},
   "outputs": [],
   "source": [
    "import json"
   ]
  },
  {
   "cell_type": "code",
   "execution_count": null,
   "id": "71007b33-9251-461e-9f94-6a718e0267e7",
   "metadata": {},
   "outputs": [],
   "source": []
  }
 ],
 "metadata": {
  "kernelspec": {
   "display_name": "Python 3 (ipykernel)",
   "language": "python",
   "name": "python3"
  },
  "language_info": {
   "codemirror_mode": {
    "name": "ipython",
    "version": 3
   },
   "file_extension": ".py",
   "mimetype": "text/x-python",
   "name": "python",
   "nbconvert_exporter": "python",
   "pygments_lexer": "ipython3",
   "version": "3.12.0"
  }
 },
 "nbformat": 4,
 "nbformat_minor": 5
}
