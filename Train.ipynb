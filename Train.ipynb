{
 "cells": [
  {
   "cell_type": "code",
   "execution_count": 3,
   "id": "778c4454-2f16-490b-a009-9ac6080f683f",
   "metadata": {},
   "outputs": [],
   "source": [
    "from midas.agent import Midas\n",
    "from datetime import datetime"
   ]
  },
  {
   "cell_type": "code",
   "execution_count": 4,
   "id": "985f06a7-0b7a-40ef-81bb-38642b6b4352",
   "metadata": {},
   "outputs": [],
   "source": [
    "filepath='/Users/kaihayden/Desktop/midas/first_subquery_save.json'"
   ]
  },
  {
   "cell_type": "code",
   "execution_count": 5,
   "id": "4830be4c-9f16-4c9f-8a78-267116d6c8a2",
   "metadata": {},
   "outputs": [],
   "source": [
    "midas_agent = Midas()\n",
    "midas_agent.load(filepath)"
   ]
  },
  {
   "cell_type": "code",
   "execution_count": 6,
   "id": "f79f95f9-0e41-4abc-a4f5-a3d0cfd5d342",
   "metadata": {},
   "outputs": [],
   "source": [
    "def parse_date(d):\n",
    "    return datetime.strptime(d['metadata']['date'], '%m/%d/%Y, %H:%M')"
   ]
  },
  {
   "cell_type": "code",
   "execution_count": 7,
   "id": "b9b68541-b90b-4869-9f1d-cd84a31f832e",
   "metadata": {},
   "outputs": [],
   "source": [
    "output = midas_agent.run(convo_id=0, sort_key=parse_date)"
   ]
  },
  {
   "cell_type": "code",
   "execution_count": 8,
   "id": "e71f6995-7ef5-4440-b668-6bbdfb3aa51c",
   "metadata": {},
   "outputs": [
    {
     "name": "stdout",
     "output_type": "stream",
     "text": [
      "{\n",
      "  \"orderDetails\": {\n",
      "    \"orderDate\": \"02/03/2024\",\n",
      "    \"orderNum\": null\n",
      "  },\n",
      "  \"buyer\": {\n",
      "    \"companyName\": \"LlamaIndex\",\n",
      "    \"pointOfContact\": \"Hagoromo Chalk\",\n",
      "    \"contactEmail\": \"hagoromorphism@gmail.com\",\n",
      "    \"contactPhone\": \"\",\n",
      "    \"shippingAddress\": \"\"\n",
      "  },\n",
      "  \"lineItems\": [\n",
      "    {\n",
      "      \"itemNumber\": null,\n",
      "      \"description\": {\n",
      "        \"item_name\": \"Blue and Pink Multi-Colored Hoodie\",\n",
      "        \"item_description\": \"Custom-branded hoodie with LlamaIndex branding, size small\",\n",
      "        \"sku\": \"unique identifier for small size\"\n",
      "      },\n",
      "      \"quantity\": 15,\n",
      "      \"unitPrice\": 300,\n",
      "      \"discount\": 30,\n",
      "      \"totalPrice\": 4050\n",
      "    },\n",
      "    {\n",
      "      \"itemNumber\": null,\n",
      "      \"description\": {\n",
      "        \"item_name\": \"Blue and Pink Multi-Colored Hoodie\",\n",
      "        \"item_description\": \"Custom-branded hoodie with LlamaIndex branding, size medium\",\n",
      "        \"sku\": \"unique identifier for medium size\"\n",
      "      },\n",
      "      \"quantity\": 15,\n",
      "      \"unitPrice\": 300,\n",
      "      \"discount\": 30,\n",
      "      \"totalPrice\": 4050\n",
      "    },\n",
      "    {\n",
      "      \"itemNumber\": null,\n",
      "      \"description\": {\n",
      "        \"item_name\": \"Blue and Pink Multi-Colored Hoodie\",\n",
      "        \"item_description\": \"Custom-branded hoodie with LlamaIndex branding, size large\",\n",
      "        \"sku\": \"unique identifier for large size\"\n",
      "      },\n",
      "      \"quantity\": 20,\n",
      "      \"unitPrice\": 300,\n",
      "      \"discount\": 30,\n",
      "      \"totalPrice\": 5400\n",
      "    }\n",
      "  ]\n",
      "}\n"
     ]
    }
   ],
   "source": [
    "print(output)"
   ]
  },
  {
   "cell_type": "code",
   "execution_count": 13,
   "id": "91c304d8-b111-4c3b-a9b9-afd4dfb02bbf",
   "metadata": {},
   "outputs": [
    {
     "ename": "SyntaxError",
     "evalue": "invalid syntax (2408811902.py, line 1)",
     "output_type": "error",
     "traceback": [
      "\u001b[0;36m  Cell \u001b[0;32mIn[13], line 1\u001b[0;36m\u001b[0m\n\u001b[0;31m    ```\u001b[0m\n\u001b[0m    ^\u001b[0m\n\u001b[0;31mSyntaxError\u001b[0m\u001b[0;31m:\u001b[0m invalid syntax\n"
     ]
    }
   ],
   "source": [
    "```\n",
    "hi\n",
    "```"
   ]
  },
  {
   "cell_type": "code",
   "execution_count": 43,
   "id": "bab60960-bb22-4df4-88cf-e54b06915664",
   "metadata": {},
   "outputs": [],
   "source": [
    "from datetime import datetime\n",
    "\n",
    "def parse_date(d):\n",
    "    return datetime.strptime(d['metadata']['date'], '%m/%d/%Y, %H:%M')\n"
   ]
  },
  {
   "cell_type": "code",
   "execution_count": null,
   "id": "4f2131ae-7a21-4438-9a77-2c97c173bc0c",
   "metadata": {},
   "outputs": [],
   "source": []
  },
  {
   "cell_type": "code",
   "execution_count": null,
   "id": "6403d074-88b9-46ac-b1a4-88e5329de730",
   "metadata": {},
   "outputs": [],
   "source": []
  }
 ],
 "metadata": {
  "kernelspec": {
   "display_name": "Python 3 (ipykernel)",
   "language": "python",
   "name": "python3"
  },
  "language_info": {
   "codemirror_mode": {
    "name": "ipython",
    "version": 3
   },
   "file_extension": ".py",
   "mimetype": "text/x-python",
   "name": "python",
   "nbconvert_exporter": "python",
   "pygments_lexer": "ipython3",
   "version": "3.12.0"
  }
 },
 "nbformat": 4,
 "nbformat_minor": 5
}
