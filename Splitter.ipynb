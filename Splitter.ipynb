{
 "cells": [
  {
   "cell_type": "code",
   "execution_count": 1,
   "id": "8ea53160-fb2f-4f03-bae1-6ce79877859f",
   "metadata": {},
   "outputs": [],
   "source": [
    "raw_prompt = \"\"\"\n",
    "For each item that the buyer agreed to purchase, return the item name, item description, quantity purchased, unit price in dollars, unit discount in dollars, and final total price per item (quantity * (unit price - unit discount)) . Each sku of the purchased item should be treated as a separate item.\n",
    "\n",
    "Output the result in dictionary format following the example below. Each line item should have its own list under lineItems. Include all non quantity and price related details of each item under its description.\n",
    "\n",
    "{ \"orderDetails\":{ \"orderDate\": \"\", \"orderNum\": null, }, \"buyer\":{ \"companyName\": \"\", \"pointOfContact\": \"\", \"contactEmail\": \"\", \"contactPhone\": \"\", \"shippingAddress\": \"\", }, \"lineItems\":[{ \"itemNumber\": null, \"description\": \"\", \"quantity\": null, \"unitPrice\": null, \"discount\": null, “totalPrice”: null}]}\n",
    "\"\"\""
   ]
  },
  {
   "cell_type": "code",
   "execution_count": 2,
   "id": "8ab1c0e4-9b7c-4db9-86f5-b706c93a9a70",
   "metadata": {},
   "outputs": [],
   "source": [
    "from midas.agent import Midas"
   ]
  },
  {
   "cell_type": "code",
   "execution_count": 3,
   "id": "0f6d9b0a-b07c-4483-be0f-bf44f6477a7d",
   "metadata": {},
   "outputs": [],
   "source": [
    "new_agent = Midas()"
   ]
  },
  {
   "cell_type": "code",
   "execution_count": 4,
   "id": "57aecb0f-ed2c-4d8e-a28f-6422e9099310",
   "metadata": {},
   "outputs": [],
   "source": [
    "new_agent.set_objective(raw_prompt)"
   ]
  },
  {
   "cell_type": "code",
   "execution_count": 5,
   "id": "723c6b5c-f10d-4b4c-bcce-0964ad0834c5",
   "metadata": {},
   "outputs": [],
   "source": [
    "new_agent.add_criteria(\n",
    "    [\n",
    "        {\"format\": \"the format should be outputted as a single string representing a python dictionary\"},\n",
    "        {\"no_markdown\": \"the output should not be in markdown, it should not contain backticks\"}\n",
    "    ]\n",
    ")"
   ]
  },
  {
   "cell_type": "code",
   "execution_count": 20,
   "id": "491a651f-4212-41df-92ce-519537772d05",
   "metadata": {},
   "outputs": [],
   "source": [
    "new_agent.save('/Users/kaihayden/Desktop/midas/first_subquery_save.json')"
   ]
  },
  {
   "cell_type": "code",
   "execution_count": 7,
   "id": "5c8de818-8a09-4056-866c-443206bc1d94",
   "metadata": {},
   "outputs": [
    {
     "data": {
      "text/plain": [
       "Midas(\n",
       "    Agent(\n",
       "        name=,\n",
       "        language_model=,\n",
       "        embedding_model=\n",
       "    )\n",
       "    Prompt(\n",
       "        raw=\n",
       "For each item that the buyer agreed to purchase, return the item name, item description, quantity purchased, unit price in dollars, unit discount in dollars, and final total price per item (quantity * (unit price - unit discount)) . Each sku of the purchased item should be treated as a separate item.\n",
       "\n",
       "Output the result in dictionary format following the example below. Each line item should have its own list under lineItems. Include all non quantity and price related details of each item under its description.\n",
       "\n",
       "{ \"orderDetails\":{ \"orderDate\": \"\", \"orderNum\": null, }, \"buyer\":{ \"companyName\": \"\", \"pointOfContact\": \"\", \"contactEmail\": \"\", \"contactPhone\": \"\", \"shippingAddress\": \"\", }, \"lineItems\":[{ \"itemNumber\": null, \"description\": \"\", \"quantity\": null, \"unitPrice\": null, \"discount\": null, “totalPrice”: null}]}\n",
       ",\n",
       "        mod=\n",
       "For each item that the buyer agreed to purchase, return the item name, item description, quantity purchased, unit price in dollars, unit discount in dollars, and final total price per item (quantity * (unit price - unit discount)) . Each sku of the purchased item should be treated as a separate item.\n",
       "\n",
       "Output the result in dictionary format following the example below. Each line item should have its own list under lineItems. Include all non quantity and price related details of each item under its description.\n",
       "\n",
       "{ \"orderDetails\":{ \"orderDate\": \"\", \"orderNum\": null, }, \"buyer\":{ \"companyName\": \"\", \"pointOfContact\": \"\", \"contactEmail\": \"\", \"contactPhone\": \"\", \"shippingAddress\": \"\", }, \"lineItems\":[{ \"itemNumber\": null, \"description\": \"\", \"quantity\": null, \"unitPrice\": null, \"discount\": null, “totalPrice”: null}]}\n",
       ",\n",
       "    )\n",
       "    SubQueryStruct(\n",
       "        item_name,\n",
       "\titem_description,\n",
       "\tquantity_purchased,\n",
       "\tunit_price_in_dollars,\n",
       "\tunit_discount_in_dollars,\n",
       "\tfinal_total_price_per_item,\n",
       "\tsku_treatment,\n",
       "\tnon_quantity_and_price_details\n",
       "    )\n",
       "    CriteriaStruct(\n",
       "        UserCriteria(\n",
       "            format,\n",
       "\t    no_markdown\n",
       "        )\n",
       "        AgentCriteria(\n",
       "            accuracy_of_item_details,\n",
       "\t    completeness_of_order_details,\n",
       "\t    completeness_of_buyer_information,\n",
       "\t    correct_calculation_of_total_price_per_item,\n",
       "\t    correct_format_of_output,\n",
       "\t    inclusion_of_all_requested_fields,\n",
       "\t    correct_data_types,\n",
       "\t    no_redundant_or_unnecessary_information\n",
       "        )\n",
       "    )\n",
       ")"
      ]
     },
     "execution_count": 7,
     "metadata": {},
     "output_type": "execute_result"
    }
   ],
   "source": [
    "new_agent"
   ]
  },
  {
   "cell_type": "code",
   "execution_count": 17,
   "id": "cd3109d6-8e08-4901-9927-6b78ad8e12e6",
   "metadata": {},
   "outputs": [],
   "source": [
    "criteria_str = 'Criteria to follow:\\n'\n",
    "for name, struct in (new_agent.criteria.data['UserCriteria'] | new_agent.criteria.data['AgentCriteria']).items():\n",
    "    criteria_str += f\" - {name}: {struct.mod}\\n\""
   ]
  },
  {
   "cell_type": "code",
   "execution_count": 19,
   "id": "1fae90e7-55ac-434c-9854-ff82dd8a8b76",
   "metadata": {},
   "outputs": [
    {
     "name": "stdout",
     "output_type": "stream",
     "text": [
      "Criteria to follow:\n",
      " - format: the format should be outputted as a single string representing a python dictionary\n",
      " - no_markdown: the output should not be in markdown, it should not contain backticks\n",
      " - accuracy_of_item_details: The output accurately reflects each item's name, description, quantity purchased, unit price, and unit discount as specified in the user request.\n",
      " - completeness_of_order_details: The order details section is fully populated with the order date and order number.\n",
      " - completeness_of_buyer_information: The buyer section includes the company name, point of contact, contact email, contact phone, and shipping address.\n",
      " - correct_calculation_of_total_price_per_item: The final total price per item is correctly calculated as quantity * (unit price - unit discount).\n",
      " - correct_format_of_output: The output is in the correct dictionary format as specified, with each line item having its own list under lineItems.\n",
      " - inclusion_of_all_requested_fields: All requested fields (item name, item description, quantity, unit price, unit discount, and final total price per item) are included for each line item.\n",
      " - correct_data_types: All numerical values (quantity, unit price, discount, total price) are represented as numbers, and all other information is correctly represented as strings.\n",
      " - no_redundant_or_unnecessary_information: The output contains no redundant or unnecessary information, focusing solely on the details requested by the user.\n",
      "\n"
     ]
    }
   ],
   "source": [
    "print(criteria_str)"
   ]
  },
  {
   "cell_type": "code",
   "execution_count": 10,
   "id": "6c9d1ae5-1041-46f2-9772-30740a19f75a",
   "metadata": {},
   "outputs": [
    {
     "data": {
      "text/plain": [
       "{'format': Criteria(format), 'no_markdown': Criteria(no_markdown)}"
      ]
     },
     "execution_count": 10,
     "metadata": {},
     "output_type": "execute_result"
    }
   ],
   "source": [
    "new_agent.criteria.data['UserCriteria']"
   ]
  },
  {
   "cell_type": "code",
   "execution_count": 9,
   "id": "8ad623bf-897d-4f39-9e6f-73efde2d7dd0",
   "metadata": {},
   "outputs": [
    {
     "data": {
      "text/plain": [
       "{'accuracy_of_item_details': Criteria(accuracy_of_item_details),\n",
       " 'completeness_of_order_details': Criteria(completeness_of_order_details),\n",
       " 'completeness_of_buyer_information': Criteria(completeness_of_buyer_information),\n",
       " 'correct_calculation_of_total_price_per_item': Criteria(correct_calculation_of_total_price_per_item),\n",
       " 'correct_format_of_output': Criteria(correct_format_of_output),\n",
       " 'inclusion_of_all_requested_fields': Criteria(inclusion_of_all_requested_fields),\n",
       " 'correct_data_types': Criteria(correct_data_types),\n",
       " 'no_redundant_or_unnecessary_information': Criteria(no_redundant_or_unnecessary_information)}"
      ]
     },
     "execution_count": 9,
     "metadata": {},
     "output_type": "execute_result"
    }
   ],
   "source": [
    "new_agent.criteria.data['AgentCriteria']"
   ]
  },
  {
   "cell_type": "code",
   "execution_count": 12,
   "id": "d7e82a05-7d6b-42a6-92d2-6288241f66b9",
   "metadata": {},
   "outputs": [
    {
     "data": {
      "text/plain": [
       "\"The output accurately reflects each item's name, description, quantity purchased, unit price, and unit discount as specified in the user request.\""
      ]
     },
     "execution_count": 12,
     "metadata": {},
     "output_type": "execute_result"
    }
   ],
   "source": [
    "new_agent.criteria.data['AgentCriteria']['accuracy_of_item_details'].mod"
   ]
  },
  {
   "cell_type": "code",
   "execution_count": 13,
   "id": "58ce9385-dd56-4789-a430-ecb896006278",
   "metadata": {},
   "outputs": [
    {
     "data": {
      "text/plain": [
       "'The output is in the correct dictionary format as specified, with each line item having its own list under lineItems.'"
      ]
     },
     "execution_count": 13,
     "metadata": {},
     "output_type": "execute_result"
    }
   ],
   "source": [
    "new_agent.criteria.data['AgentCriteria']['correct_format_of_output'].mod"
   ]
  },
  {
   "cell_type": "code",
   "execution_count": null,
   "id": "33fb314e-ab38-416f-a04b-c557a38f09a9",
   "metadata": {},
   "outputs": [],
   "source": []
  },
  {
   "cell_type": "code",
   "execution_count": null,
   "id": "fc30f4a7-d573-4e1b-814d-6df84058e416",
   "metadata": {},
   "outputs": [],
   "source": []
  },
  {
   "cell_type": "code",
   "execution_count": 8,
   "id": "df6aa0e2-c640-42d7-91a7-1b62441b6021",
   "metadata": {},
   "outputs": [],
   "source": [
    "from openai import OpenAI"
   ]
  },
  {
   "cell_type": "code",
   "execution_count": 9,
   "id": "f3d9379a-b50d-47e4-94b2-392d7b92818e",
   "metadata": {},
   "outputs": [],
   "source": [
    "client = OpenAI()"
   ]
  },
  {
   "cell_type": "code",
   "execution_count": 25,
   "id": "cecb3975-5a67-43cf-a689-521a3e701d5c",
   "metadata": {},
   "outputs": [],
   "source": [
    "completion = client.chat.completions.create(\n",
    "    model=\"gpt-4-turbo-preview\",\n",
    "    messages=[\n",
    "        {\"role\": \"system\", \"content\": CRITERIA_CONTEXT},\n",
    "        {\"role\": \"user\", \"content\": raw_prompt}\n",
    "    ],\n",
    "    temperature=0\n",
    ")"
   ]
  },
  {
   "cell_type": "code",
   "execution_count": 28,
   "id": "3db13e4b-4ba8-4bf0-8cc6-3f00d25ac649",
   "metadata": {},
   "outputs": [],
   "source": [
    "import json"
   ]
  },
  {
   "cell_type": "code",
   "execution_count": 35,
   "id": "151d3e2d-9938-4a3b-9dd4-9bd9f1de7564",
   "metadata": {},
   "outputs": [
    {
     "data": {
      "text/plain": [
       "{'accuracy_of_item_details': 'Each line item should accurately reflect the item name, description, quantity purchased, unit price, unit discount, and final total price per item.',\n",
       " 'completeness_of_order_details': 'The order details must include the order date and order number.',\n",
       " 'completeness_of_buyer_information': 'Buyer information should be complete, including company name, point of contact, contact email, contact phone, and shipping address.',\n",
       " 'correct_calculation_of_total_price': 'The final total price per item should be correctly calculated using the formula quantity * (unit price - unit discount).',\n",
       " 'correct_format_of_output': 'The output should be in the specified dictionary format, with each line item having its own list under lineItems and all non-quantity and price related details of each item under its description.',\n",
       " 'presence_of_all_required_fields': 'Ensure all required fields are present: orderDetails, buyer, and lineItems with their respective details.',\n",
       " 'correct_data_types': 'Data types should be appropriate for each field (e.g., strings for descriptions, integers or floats for quantities, prices, and discounts).'}"
      ]
     },
     "execution_count": 35,
     "metadata": {},
     "output_type": "execute_result"
    }
   ],
   "source": [
    "json.loads(completion.choices[0].message.content)"
   ]
  },
  {
   "cell_type": "code",
   "execution_count": null,
   "id": "893406e1-c9a4-486d-8fdf-9ca66f65011e",
   "metadata": {},
   "outputs": [],
   "source": []
  },
  {
   "cell_type": "code",
   "execution_count": 6,
   "id": "38edbeb0-c022-418e-8b22-e1336d21aa88",
   "metadata": {},
   "outputs": [],
   "source": [
    "new_agent.load('/Users/kaihayden/Desktop/midas/first_subquery_save.json')"
   ]
  },
  {
   "cell_type": "code",
   "execution_count": null,
   "id": "a615b68c-ba3b-4f2b-a3ff-22ff2c839603",
   "metadata": {},
   "outputs": [],
   "source": []
  }
 ],
 "metadata": {
  "kernelspec": {
   "display_name": "Python 3 (ipykernel)",
   "language": "python",
   "name": "python3"
  },
  "language_info": {
   "codemirror_mode": {
    "name": "ipython",
    "version": 3
   },
   "file_extension": ".py",
   "mimetype": "text/x-python",
   "name": "python",
   "nbconvert_exporter": "python",
   "pygments_lexer": "ipython3",
   "version": "3.12.0"
  }
 },
 "nbformat": 4,
 "nbformat_minor": 5
}
