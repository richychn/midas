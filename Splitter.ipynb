{
 "cells": [
  {
   "cell_type": "code",
   "execution_count": 1,
   "id": "8ea53160-fb2f-4f03-bae1-6ce79877859f",
   "metadata": {},
   "outputs": [],
   "source": [
    "raw_prompt = \"\"\"\n",
    "For each item that the buyer agreed to purchase, return the item name, item description, quantity purchased, unit price in dollars, unit discount in dollars, and final total price per item (quantity * (unit price - unit discount)) . Each sku of the purchased item should be treated as a separate item.\n",
    "\n",
    "Output the result in json format following the example below. Each line item should have its own list under lineItems. Include all non quantity and price related details of each item under its description.\n",
    "\n",
    "{ \"orderDetails\":{ \"orderDate\": \"\", \"orderNum\": null, }, \"buyer\":{ \"companyName\": \"\", \"pointOfContact\": \"\", \"contactEmail\": \"\", \"contactPhone\": \"\", \"shippingAddress\": \"\", }, \"lineItems\":[{ \"itemNumber\": null, \"description\": \"\", \"quantity\": null, \"unitPrice\": null, \"discount\": null, “totalPrice”: null}]}\n",
    "\"\"\""
   ]
  },
  {
   "cell_type": "code",
   "execution_count": 2,
   "id": "8ab1c0e4-9b7c-4db9-86f5-b706c93a9a70",
   "metadata": {},
   "outputs": [],
   "source": [
    "from midas.agent import Midas"
   ]
  },
  {
   "cell_type": "code",
   "execution_count": 3,
   "id": "0f6d9b0a-b07c-4483-be0f-bf44f6477a7d",
   "metadata": {},
   "outputs": [],
   "source": [
    "new_agent = Midas()"
   ]
  },
  {
   "cell_type": "code",
   "execution_count": 4,
   "id": "57aecb0f-ed2c-4d8e-a28f-6422e9099310",
   "metadata": {},
   "outputs": [],
   "source": [
    "new_agent.set_mission(raw_prompt)"
   ]
  },
  {
   "cell_type": "code",
   "execution_count": 5,
   "id": "491a651f-4212-41df-92ce-519537772d05",
   "metadata": {},
   "outputs": [],
   "source": [
    "new_agent.save('/Users/kaihayden/Desktop/midas/first_subquery_save.json')"
   ]
  },
  {
   "cell_type": "code",
   "execution_count": null,
   "id": "5c8de818-8a09-4056-866c-443206bc1d94",
   "metadata": {},
   "outputs": [],
   "source": []
  },
  {
   "cell_type": "code",
   "execution_count": null,
   "id": "cecb3975-5a67-43cf-a689-521a3e701d5c",
   "metadata": {},
   "outputs": [],
   "source": []
  },
  {
   "cell_type": "code",
   "execution_count": null,
   "id": "151d3e2d-9938-4a3b-9dd4-9bd9f1de7564",
   "metadata": {},
   "outputs": [],
   "source": []
  },
  {
   "cell_type": "code",
   "execution_count": null,
   "id": "893406e1-c9a4-486d-8fdf-9ca66f65011e",
   "metadata": {},
   "outputs": [],
   "source": []
  },
  {
   "cell_type": "code",
   "execution_count": 6,
   "id": "38edbeb0-c022-418e-8b22-e1336d21aa88",
   "metadata": {},
   "outputs": [],
   "source": [
    "new_agent.load('/Users/kaihayden/Desktop/midas/first_subquery_save.json')"
   ]
  },
  {
   "cell_type": "code",
   "execution_count": null,
   "id": "a615b68c-ba3b-4f2b-a3ff-22ff2c839603",
   "metadata": {},
   "outputs": [],
   "source": []
  }
 ],
 "metadata": {
  "kernelspec": {
   "display_name": "Python 3 (ipykernel)",
   "language": "python",
   "name": "python3"
  },
  "language_info": {
   "codemirror_mode": {
    "name": "ipython",
    "version": 3
   },
   "file_extension": ".py",
   "mimetype": "text/x-python",
   "name": "python",
   "nbconvert_exporter": "python",
   "pygments_lexer": "ipython3",
   "version": "3.12.0"
  }
 },
 "nbformat": 4,
 "nbformat_minor": 5
}
