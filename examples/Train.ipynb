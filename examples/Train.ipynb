{
 "cells": [
  {
   "cell_type": "code",
   "execution_count": 2,
   "id": "07833783-2003-4cb1-a2b5-32beac2d65cd",
   "metadata": {},
   "outputs": [],
   "source": [
    "import json\n",
    "import sys  \n",
    "\n",
    "# Put path to your project directory here:\n",
    "sys.path.insert(1, '/Users/richy/code/midas')"
   ]
  },
  {
   "cell_type": "code",
   "execution_count": 3,
   "id": "778c4454-2f16-490b-a009-9ac6080f683f",
   "metadata": {},
   "outputs": [],
   "source": [
    "from midas.agent import Midas\n",
    "from datetime import datetime"
   ]
  },
  {
   "cell_type": "code",
   "execution_count": 1,
   "id": "985f06a7-0b7a-40ef-81bb-38642b6b4352",
   "metadata": {},
   "outputs": [],
   "source": [
    "filepath_1='../saved_agents/first_subquery_save.json'\n",
    "filepath_2='../saved_agents/second_subquery_save.json'"
   ]
  },
  {
   "cell_type": "code",
   "execution_count": 4,
   "id": "4830be4c-9f16-4c9f-8a78-267116d6c8a2",
   "metadata": {},
   "outputs": [],
   "source": [
    "agent_1 = Midas()\n",
    "agent_1.load(filepath_1)"
   ]
  },
  {
   "cell_type": "code",
   "execution_count": 5,
   "id": "c3c664b8-288b-4a69-bf07-ead423e13788",
   "metadata": {},
   "outputs": [
    {
     "data": {
      "text/plain": [
       "\n",
       "    Prompt(\n",
       "        raw=\n",
       "For each item that the buyer agreed to purchase, return the item name, item description, quantity purchased, unit price in dollars, unit discount in dollars, and final total price per item (quantity * (unit price - unit discount)) . Each sku of the purchased item should be treated as a separate item.\n",
       "\n",
       "Output the result in JSON format following the example below. Each line item should have its own list under lineItems. Include all non quantity and price related details of each item under its description.\n",
       "\n",
       "{ \"orderDetails\":{ \"orderDate\": \"\", \"orderNum\": null, }, \"buyer\":{ \"companyName\": \"\", \"pointOfContact\": \"\", \"contactEmail\": \"\", \"contactPhone\": \"\", \"shippingAddress\": \"\", }, \"lineItems\":[{ \"itemNumber\": null, \"description\": \"\", \"quantity\": null, \"unitPrice\": null, \"discount\": null, “totalPrice”: null}]}\n",
       ",\n",
       "        mod=\n",
       "For each item that the buyer agreed to purchase, return the item name, item description, quantity purchased, unit price in dollars, unit discount in dollars, and final total price per item (quantity * (unit price - unit discount)) . Each sku of the purchased item should be treated as a separate item.\n",
       "\n",
       "Output the result in JSON format following the example below. Each line item should have its own list under lineItems. Include all non quantity and price related details of each item under its description.\n",
       "\n",
       "{ \"orderDetails\":{ \"orderDate\": \"\", \"orderNum\": null, }, \"buyer\":{ \"companyName\": \"\", \"pointOfContact\": \"\", \"contactEmail\": \"\", \"contactPhone\": \"\", \"shippingAddress\": \"\", }, \"lineItems\":[{ \"itemNumber\": null, \"description\": \"\", \"quantity\": null, \"unitPrice\": null, \"discount\": null, “totalPrice”: null}]}\n",
       ",\n",
       "    )"
      ]
     },
     "execution_count": 5,
     "metadata": {},
     "output_type": "execute_result"
    }
   ],
   "source": [
    "agent_1.prompt"
   ]
  },
  {
   "cell_type": "code",
   "execution_count": 6,
   "id": "f79f95f9-0e41-4abc-a4f5-a3d0cfd5d342",
   "metadata": {},
   "outputs": [],
   "source": [
    "def parse_date(d):\n",
    "    return datetime.strptime(d['metadata']['date'], '%m/%d/%Y, %H:%M')"
   ]
  },
  {
   "cell_type": "code",
   "execution_count": 7,
   "id": "b9b68541-b90b-4869-9f1d-cd84a31f832e",
   "metadata": {},
   "outputs": [],
   "source": [
    "output = agent_1.run(convo_id=0, sort_key=parse_date)"
   ]
  },
  {
   "cell_type": "code",
   "execution_count": 8,
   "id": "529b3e6a-aeed-4167-976f-c2a1f5da03a9",
   "metadata": {},
   "outputs": [],
   "source": [
    "output, eval, mod = agent_1.evaluate(convo_id=0, sort_key=parse_date)\n"
   ]
  },
  {
   "cell_type": "code",
   "execution_count": 80,
   "id": "0a59e093-a704-4fb3-a37a-4067d4dc3c99",
   "metadata": {},
   "outputs": [
    {
     "data": {
      "text/plain": [
       "'{\"orderDetails\":{\"orderDate\":\"02/03/2024\",\"orderNum\":null},\"buyer\":{\"companyName\":\"LlamaIndex\",\"pointOfContact\":\"Hagoromo Chalk\",\"contactEmail\":\"hagoromorphism@gmail.com\",\"contactPhone\":\"\",\"shippingAddress\":\"\"},\"lineItems\":[{\"itemNumber\":null,\"description\":{\"item_name\":\"Blue and Pink Multi-Colored Hoodie\",\"item_description\":\"Custom-branded hoodie for the LlamaIndex Hackathon participants.\",\"size\":\"small\",\"color\":\"Blue and Pink Multi-Colored\"},\"quantity\":15,\"unitPrice\":300,\"discount\":30,\"totalPrice\":4050},{\"itemNumber\":null,\"description\":{\"item_name\":\"Blue and Pink Multi-Colored Hoodie\",\"item_description\":\"Custom-branded hoodie for the LlamaIndex Hackathon participants.\",\"size\":\"medium\",\"color\":\"Blue and Pink Multi-Colored\"},\"quantity\":15,\"unitPrice\":300,\"discount\":30,\"totalPrice\":4050},{\"itemNumber\":null,\"description\":{\"item_name\":\"Blue and Pink Multi-Colored Hoodie\",\"item_description\":\"Custom-branded hoodie for the LlamaIndex Hackathon participants.\",\"size\":\"large\",\"color\":\"Blue and Pink Multi-Colored\"},\"quantity\":20,\"unitPrice\":300,\"discount\":30,\"totalPrice\":5400}]}'"
      ]
     },
     "execution_count": 80,
     "metadata": {},
     "output_type": "execute_result"
    }
   ],
   "source": [
    "output"
   ]
  },
  {
   "cell_type": "code",
   "execution_count": 77,
   "id": "cdf0cad8-5114-408b-ae7a-64d35ef6e1e9",
   "metadata": {},
   "outputs": [
    {
     "name": "stdout",
     "output_type": "stream",
     "text": [
      "The model output generally meets several of the criteria specified but also falls short in a few areas. Here's a breakdown based on the provided criteria:\n",
      "\n",
      "1. **Format**: The output is a single string representing a JSON object with no newlines, which meets the format criterion.\n",
      "\n",
      "2. **No_markdown**: The output does not contain markdown formatting, adhering to the requirement.\n",
      "\n",
      "3. **Accuracy_of_item_details**: The item details such as item name, description, quantity purchased, unit price, and unit discount are included within each line item. However, the item name and description are nested within another object, which could be seen as slightly deviating from the expected structure where these details should be more directly under \"description\".\n",
      "\n",
      "4. **Correct_calculation_of_total_price**: The final total price per item appears to be correctly calculated using the formula (quantity * (unit price - unit discount)). For example, for the first item, 15 * (300 - 30) = 4050.\n",
      "\n",
      "5. **Correct_JSON_format**: The JSON format is mostly correct, but there's a minor issue with the use of quotation marks around “totalPrice” in the example provided in the user prompt, which uses a different character (“” instead of \"\"). The model output correctly uses the standard quotation marks.\n",
      "\n",
      "6. **Completeness_of_order_details**: The order details and buyer information are included but not fully completed (e.g., orderNum, contactPhone, and shippingAddress are left empty). This partially meets the criterion but lacks full completeness.\n",
      "\n",
      "7. **Individual_treatment_of_skus**: Each SKU of the purchased item is treated as a separate item, with its own entry under lineItems, which meets the criterion.\n",
      "\n",
      "8. **Correctness_of_lineItems_structure**: Each line item entry includes itemNumber, description, quantity, unitPrice, discount, and totalPrice. However, the structure under \"description\" deviates slightly from what might be expected, as it nests additional details rather than listing them more directly.\n",
      "\n",
      "9. **No_redundant_or_missing_information**: There is no redundant information, but there is missing information in the buyer and order details (e.g., contactPhone, shippingAddress).\n",
      "\n",
      "10. **Clarity_and_readability**: The JSON output is clear and readable, though the nesting under \"description\" could potentially hinder readability for those expecting a flatter structure.\n",
      "\n",
      "**Feedback for Improvement**:\n",
      "- Ensure all non-quantity and price-related details of the order and buyer are fully completed.\n",
      "- Consider flattening the structure under \"description\" to directly include item name and description details without additional nesting, for improved clarity and adherence to the expected output structure.\n"
     ]
    }
   ],
   "source": [
    "print(eval)"
   ]
  },
  {
   "cell_type": "code",
   "execution_count": 78,
   "id": "38278436-3117-4fd5-a3a8-af6463b3c0e5",
   "metadata": {},
   "outputs": [
    {
     "name": "stdout",
     "output_type": "stream",
     "text": [
      "\n",
      "For each item that the buyer agreed to purchase, return the item name, item description, quantity purchased, unit price in dollars, unit discount in dollars, and final total price per item (quantity * (unit price - unit discount)) . Each sku of the purchased item should be treated as a separate item.\n",
      "\n",
      "Output the result in JSON format following the example below. Each line item should have its own list under lineItems. Include all non quantity and price related details of each item under its description.\n",
      "\n",
      "{ \"orderDetails\":{ \"orderDate\": \"\", \"orderNum\": null, }, \"buyer\":{ \"companyName\": \"\", \"pointOfContact\": \"\", \"contactEmail\": \"\", \"contactPhone\": \"\", \"shippingAddress\": \"\", }, \"lineItems\":[{ \"itemNumber\": null, \"description\": \"\", \"quantity\": null, \"unitPrice\": null, \"discount\": null, “totalPrice”: null}]}\n",
      "\n"
     ]
    }
   ],
   "source": [
    "print(agent_1.prompt.raw)"
   ]
  },
  {
   "cell_type": "code",
   "execution_count": 81,
   "id": "e71f6995-7ef5-4440-b668-6bbdfb3aa51c",
   "metadata": {},
   "outputs": [
    {
     "name": "stdout",
     "output_type": "stream",
     "text": [
      "For each item that the buyer agreed to purchase, return the item name and item description directly under \"description\" without nesting them within another object, along with the quantity purchased, unit price in dollars, unit discount in dollars, and final total price per item calculated as (quantity * (unit price - unit discount)). Treat each SKU of the purchased item as a separate entry under \"lineItems\". \n",
      "\n",
      "Output the result in JSON format, ensuring all non-quantity and price-related details of the order and buyer are fully completed, including order number, contact phone, and shipping address. Follow the example structure below, but adjust it to directly include item name and description details under \"description\" for improved clarity and adherence to the expected output structure.\n",
      "\n",
      "{\n",
      "  \"orderDetails\": {\n",
      "    \"orderDate\": \"\",\n",
      "    \"orderNum\": \"\",\n",
      "    \"buyer\": {\n",
      "      \"companyName\": \"\",\n",
      "      \"pointOfContact\": \"\",\n",
      "      \"contactEmail\": \"\",\n",
      "      \"contactPhone\": \"\",\n",
      "      \"shippingAddress\": \"\"\n",
      "    },\n",
      "    \"lineItems\": [\n",
      "      {\n",
      "        \"itemNumber\": \"\",\n",
      "        \"description\": {\n",
      "          \"itemName\": \"\",\n",
      "          \"itemDescription\": \"\"\n",
      "        },\n",
      "        \"quantity\": \"\",\n",
      "        \"unitPrice\": \"\",\n",
      "        \"discount\": \"\",\n",
      "        \"totalPrice\": \"\"\n",
      "      }\n",
      "    ]\n",
      "  }\n",
      "}\n"
     ]
    }
   ],
   "source": [
    "print(mod)"
   ]
  },
  {
   "cell_type": "code",
   "execution_count": null,
   "id": "0f3699fd-0db5-4e4a-b8c0-0209d44e25a4",
   "metadata": {},
   "outputs": [],
   "source": []
  },
  {
   "cell_type": "code",
   "execution_count": 89,
   "id": "bab60960-bb22-4df4-88cf-e54b06915664",
   "metadata": {},
   "outputs": [],
   "source": [
    "agent_2 = Midas()\n",
    "agent_2.load(filepath_2)"
   ]
  },
  {
   "cell_type": "code",
   "execution_count": 90,
   "id": "4f2131ae-7a21-4438-9a77-2c97c173bc0c",
   "metadata": {},
   "outputs": [],
   "source": [
    "output = agent_2.run(convo_id=0, sort_key=parse_date)"
   ]
  },
  {
   "cell_type": "code",
   "execution_count": 88,
   "id": "4a76b7d1-63ed-4f4c-ac95-f93b5b004245",
   "metadata": {},
   "outputs": [
    {
     "name": "stdout",
     "output_type": "stream",
     "text": [
      "{\n",
      "    \"orderDetails\": {\n",
      "        \"orderDate\": \"02/03/2024\",\n",
      "        \"orderNum\": null\n",
      "    },\n",
      "    \"buyer\": {\n",
      "        \"companyName\": \"LlamaIndex\",\n",
      "        \"pointOfContact\": \"Hagoromo Chalk\",\n",
      "        \"contactEmail\": \"hagoromorphism@gmail.com\",\n",
      "        \"contactPhone\": \"\",\n",
      "        \"shippingAddress\": \"\"\n",
      "    },\n",
      "    \"lineItems\": [\n",
      "        {\n",
      "            \"itemNumber\": null,\n",
      "            \"description\": {\n",
      "                \"item_name\": \"Blue and Pink Multi-Colored Hoodie\",\n",
      "                \"item_description\": \"Custom-branded hoodie for the LlamaIndex Hackathon participants.\",\n",
      "                \"size\": \"small\",\n",
      "                \"color\": \"Blue and Pink Multi-Colored\"\n",
      "            },\n",
      "            \"quantity\": 15,\n",
      "            \"unitPrice\": 300,\n",
      "            \"discount\": 30,\n",
      "            \"totalPrice\": 4050\n",
      "        },\n",
      "        {\n",
      "            \"itemNumber\": null,\n",
      "            \"description\": {\n",
      "                \"item_name\": \"Blue and Pink Multi-Colored Hoodie\",\n",
      "                \"item_description\": \"Custom-branded hoodie for the LlamaIndex Hackathon participants.\",\n",
      "                \"size\": \"medium\",\n",
      "                \"color\": \"Blue and Pink Multi-Colored\"\n",
      "            },\n",
      "            \"quantity\": 15,\n",
      "            \"unitPrice\": 300,\n",
      "            \"discount\": 30,\n",
      "            \"totalPrice\": 4050\n",
      "        },\n",
      "        {\n",
      "            \"itemNumber\": null,\n",
      "            \"description\": {\n",
      "                \"item_name\": \"Blue and Pink Multi-Colored Hoodie\",\n",
      "                \"item_description\": \"Custom-branded hoodie for the LlamaIndex Hackathon participants.\",\n",
      "                \"size\": \"large\",\n",
      "                \"color\": \"Blue and Pink Multi-Colored\"\n",
      "            },\n",
      "            \"quantity\": 20,\n",
      "            \"unitPrice\": 300,\n",
      "            \"discount\": 30,\n",
      "            \"totalPrice\": 5400\n",
      "        }\n",
      "    ]\n",
      "}\n"
     ]
    }
   ],
   "source": [
    "output1='{\"orderDetails\":{\"orderDate\":\"02/03/2024\",\"orderNum\":null},\"buyer\":{\"companyName\":\"LlamaIndex\",\"pointOfContact\":\"Hagoromo Chalk\",\"contactEmail\":\"hagoromorphism@gmail.com\",\"contactPhone\":\"\",\"shippingAddress\":\"\"},\"lineItems\":[{\"itemNumber\":null,\"description\":{\"item_name\":\"Blue and Pink Multi-Colored Hoodie\",\"item_description\":\"Custom-branded hoodie for the LlamaIndex Hackathon participants.\",\"size\":\"small\",\"color\":\"Blue and Pink Multi-Colored\"},\"quantity\":15,\"unitPrice\":300,\"discount\":30,\"totalPrice\":4050},{\"itemNumber\":null,\"description\":{\"item_name\":\"Blue and Pink Multi-Colored Hoodie\",\"item_description\":\"Custom-branded hoodie for the LlamaIndex Hackathon participants.\",\"size\":\"medium\",\"color\":\"Blue and Pink Multi-Colored\"},\"quantity\":15,\"unitPrice\":300,\"discount\":30,\"totalPrice\":4050},{\"itemNumber\":null,\"description\":{\"item_name\":\"Blue and Pink Multi-Colored Hoodie\",\"item_description\":\"Custom-branded hoodie for the LlamaIndex Hackathon participants.\",\"size\":\"large\",\"color\":\"Blue and Pink Multi-Colored\"},\"quantity\":20,\"unitPrice\":300,\"discount\":30,\"totalPrice\":5400}]}'\n",
    "print(json.dumps(json.loads(output1), indent=4))"
   ]
  },
  {
   "cell_type": "code",
   "execution_count": 91,
   "id": "7901134a-a790-4e91-a75a-01e9fe486a53",
   "metadata": {},
   "outputs": [
    {
     "name": "stdout",
     "output_type": "stream",
     "text": [
      "{\n",
      "    \"orderDetails\": {\n",
      "        \"orderDate\": \"02/03/2024\",\n",
      "        \"orderNum\": \"\",\n",
      "        \"buyer\": {\n",
      "            \"companyName\": \"LlamaIndex\",\n",
      "            \"pointOfContact\": \"Hagoromo Chalk\",\n",
      "            \"contactEmail\": \"hagoromorphism@gmail.com\",\n",
      "            \"contactPhone\": \"\",\n",
      "            \"shippingAddress\": \"\"\n",
      "        },\n",
      "        \"lineItems\": [\n",
      "            {\n",
      "                \"itemNumber\": \"\",\n",
      "                \"description\": {\n",
      "                    \"itemName\": \"Blue and Pink Multi-Colored Hoodie - Small\",\n",
      "                    \"itemDescription\": \"Custom-branded hoodie in blue and pink multi-colored design for the LlamaIndex Hackathon.\"\n",
      "                },\n",
      "                \"quantity\": 15,\n",
      "                \"unitPrice\": 300,\n",
      "                \"discount\": 30,\n",
      "                \"totalPrice\": 4050\n",
      "            },\n",
      "            {\n",
      "                \"itemNumber\": \"\",\n",
      "                \"description\": {\n",
      "                    \"itemName\": \"Blue and Pink Multi-Colored Hoodie - Medium\",\n",
      "                    \"itemDescription\": \"Custom-branded hoodie in blue and pink multi-colored design for the LlamaIndex Hackathon.\"\n",
      "                },\n",
      "                \"quantity\": 15,\n",
      "                \"unitPrice\": 300,\n",
      "                \"discount\": 30,\n",
      "                \"totalPrice\": 4050\n",
      "            },\n",
      "            {\n",
      "                \"itemNumber\": \"\",\n",
      "                \"description\": {\n",
      "                    \"itemName\": \"Blue and Pink Multi-Colored Hoodie - Large\",\n",
      "                    \"itemDescription\": \"Custom-branded hoodie in blue and pink multi-colored design for the LlamaIndex Hackathon.\"\n",
      "                },\n",
      "                \"quantity\": 20,\n",
      "                \"unitPrice\": 300,\n",
      "                \"discount\": 30,\n",
      "                \"totalPrice\": 5400\n",
      "            }\n",
      "        ]\n",
      "    }\n",
      "}\n"
     ]
    }
   ],
   "source": [
    "print(json.dumps(json.loads(output), indent=4))"
   ]
  },
  {
   "cell_type": "code",
   "execution_count": 21,
   "id": "e9674967-365c-4e73-84ec-cb6595d2b06c",
   "metadata": {},
   "outputs": [],
   "source": [
    "import json"
   ]
  },
  {
   "cell_type": "code",
   "execution_count": null,
   "id": "71007b33-9251-461e-9f94-6a718e0267e7",
   "metadata": {},
   "outputs": [],
   "source": []
  }
 ],
 "metadata": {
  "kernelspec": {
   "display_name": "Python 3 (ipykernel)",
   "language": "python",
   "name": "python3"
  },
  "language_info": {
   "codemirror_mode": {
    "name": "ipython",
    "version": 3
   },
   "file_extension": ".py",
   "mimetype": "text/x-python",
   "name": "python",
   "nbconvert_exporter": "python",
   "pygments_lexer": "ipython3",
   "version": "3.12.0"
  }
 },
 "nbformat": 4,
 "nbformat_minor": 5
}
