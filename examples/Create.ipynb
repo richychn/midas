{
 "cells": [
  {
   "cell_type": "code",
   "execution_count": 1,
   "id": "456a23a5-b627-40ae-ae61-c264e3739650",
   "metadata": {},
   "outputs": [],
   "source": [
    "from datetime import datetime\n",
    "\n",
    "def parse_date(d):\n",
    "    return datetime.strptime(d['metadata']['date'], '%m/%d/%Y, %H:%M')"
   ]
  },
  {
   "cell_type": "code",
   "execution_count": 2,
   "id": "8002314a",
   "metadata": {},
   "outputs": [],
   "source": [
    "import sys  \n",
    "sys.path.insert(1, '../')"
   ]
  },
  {
   "cell_type": "code",
   "execution_count": 3,
   "id": "8ea53160-fb2f-4f03-bae1-6ce79877859f",
   "metadata": {},
   "outputs": [],
   "source": [
    "raw_prompt = \"\"\"\n",
    "For each item that the buyer agreed to purchase, return the item name, item description, quantity purchased, unit price in dollars, unit discount in dollars, and final total price per item (quantity * (unit price - unit discount)) . Each sku of the purchased item should be treated as a separate item.\n",
    "\n",
    "Output the result in JSON format following the example below. Each line item should have its own list under lineItems. Include all non quantity and price related details of each item under its description.\n",
    "\n",
    "{ \"orderDetails\":{ \"orderDate\": \"\", \"orderNum\": null, }, \"buyer\":{ \"companyName\": \"\", \"pointOfContact\": \"\", \"contactEmail\": \"\", \"contactPhone\": \"\", \"shippingAddress\": \"\", }, \"lineItems\":[{ \"itemNumber\": null, \"description\": \"\", \"quantity\": null, \"unitPrice\": null, \"discount\": null, “totalPrice”: null}]}\n",
    "\"\"\""
   ]
  },
  {
   "cell_type": "markdown",
   "id": "02242f0e-c041-4258-a2b3-a7d9308f07c8",
   "metadata": {},
   "source": [
    "# Agent Creation"
   ]
  },
  {
   "cell_type": "code",
   "execution_count": 4,
   "id": "8ab1c0e4-9b7c-4db9-86f5-b706c93a9a70",
   "metadata": {},
   "outputs": [],
   "source": [
    "from midas.agent import Midas"
   ]
  },
  {
   "cell_type": "code",
   "execution_count": null,
   "id": "0f6d9b0a-b07c-4483-be0f-bf44f6477a7d",
   "metadata": {},
   "outputs": [],
   "source": [
    "new_agent = Midas('Sales Order Extractor')\n",
    "new_agent.set_objective(raw_prompt)\n",
    "new_agent.add_criteria(\n",
    "    [\n",
    "        {\"format\": \"the format should be outputted as a single string representing a JSON object\"},\n",
    "        {\"no_markdown\": \"the output should not be in markdown, it should not contain backticks\"},\n",
    "    ]\n",
    ")\n",
    "new_agent"
   ]
  },
  {
   "cell_type": "code",
   "execution_count": null,
   "id": "1f1be0f5-7850-4ad1-b9e0-dcc1415463c6",
   "metadata": {},
   "outputs": [],
   "source": [
    "new_agent.subquery.data['buyer'].string"
   ]
  },
  {
   "cell_type": "code",
   "execution_count": null,
   "id": "235c28cd-4f65-46b8-821d-3e0ea682a87d",
   "metadata": {
    "scrolled": true
   },
   "outputs": [],
   "source": [
    "result = new_agent.run(convo_id=0, sort_key=parse_date)"
   ]
  },
  {
   "cell_type": "code",
   "execution_count": 10,
   "id": "faac9130-98e4-4ec4-a0b8-3bda05dad1b7",
   "metadata": {},
   "outputs": [
    {
     "name": "stdout",
     "output_type": "stream",
     "text": [
      "\u001b[1mRunning Midas(Sales Order Extractor)\u001b[0m with convo_id=0\n",
      "\n",
      "\u001b[1mUser Request:\u001b[0m\n",
      "\n",
      "For each item that the buyer agreed to purchase, return the item name, item description, quantity purchased, unit price in dollars, unit discount in dollars, and final total price per item (quantity * (unit price - unit discount)) . Each sku of the purchased item should be treated as a separate item.\n",
      "\n",
      "Output the result in JSON format following the example below. Each line item should have its own list under lineItems. Include all non quantity and price related details of each item under its description.\n",
      "\n",
      "{ \"orderDetails\":{ \"orderDate\": \"\", \"orderNum\": null, }, \"buyer\":{ \"companyName\": \"\", \"pointOfContact\": \"\", \"contactEmail\": \"\", \"contactPhone\": \"\", \"shippingAddress\": \"\", }, \"lineItems\":[{ \"itemNumber\": null, \"description\": \"\", \"quantity\": null, \"unitPrice\": null, \"discount\": null, “totalPrice”: null}]}\n",
      "\n",
      "\u001b[1mCriteria:\u001b[0m\n",
      "\n",
      "Output Criteria:\n",
      " - [format]: the format should be outputted as a single string representing a JSON object\n",
      " - [no_markdown]: the output should not be in markdown, it should not contain backticks\n",
      " - [Correctness]: Ensure that the output includes all items the buyer agreed to purchase, treating each SKU as a separate item.\n",
      " - [Completeness]: Include item name, item description, quantity purchased, unit price in dollars, unit discount in dollars, and final total price per item for each line item.\n",
      " - [Accuracy]: Calculate the final total price per item correctly (quantity * (unit price - unit discount)).\n",
      " - [Consistency]: Maintain a consistent format for each line item in the output JSON.\n",
      " - [Clarity]: Ensure that all non-quantity and price related details of each item are included under its description.\n",
      " - [Relevance]: Include relevant details such as order date, order number, buyer information, and shipping address in the output JSON.\n",
      " - [Formatting]: Present the output in a well-structured JSON format with appropriate indentation and key-value pairs.\n",
      " - [SKU Handling]: Treat each SKU of the purchased item as a separate line item in the output.\n",
      " - [Contact Information]: Include buyer's company name, point of contact, contact email, and contact phone in the output JSON.\n",
      " - [Shipping Address]: Include the buyer's shipping address in the output JSON.\n",
      " - [Item Details]: Ensure that each line item includes item number, description, quantity, unit price, discount, and total price.\n",
      " - [Order Details]: Include order date and order number in the output JSON under orderDetails.\n",
      "\n"
     ]
    },
    {
     "ename": "BrokenProcessPool",
     "evalue": "A process in the process pool was terminated abruptly while the future was running or pending.",
     "output_type": "error",
     "traceback": [
      "\u001b[0;31m---------------------------------------------------------------------------\u001b[0m",
      "\u001b[0;31m_RemoteTraceback\u001b[0m                          Traceback (most recent call last)",
      "\u001b[0;31m_RemoteTraceback\u001b[0m: \n'''\nTraceback (most recent call last):\n  File \"/Users/kaihayden/.pyenv/versions/3.12.0/lib/python3.12/concurrent/futures/process.py\", line 421, in wait_result_broken_or_wakeup\n    result_item = result_reader.recv()\n                  ^^^^^^^^^^^^^^^^^^^^\n  File \"/Users/kaihayden/.pyenv/versions/3.12.0/lib/python3.12/multiprocessing/connection.py\", line 250, in recv\n    return _ForkingPickler.loads(buf.getbuffer())\n           ^^^^^^^^^^^^^^^^^^^^^^^^^^^^^^^^^^^^^^\nTypeError: HTTPStatusError.__init__() missing 2 required keyword-only arguments: 'request' and 'response'\n'''",
      "\nThe above exception was the direct cause of the following exception:\n",
      "\u001b[0;31mBrokenProcessPool\u001b[0m                         Traceback (most recent call last)",
      "Cell \u001b[0;32mIn[10], line 1\u001b[0m\n\u001b[0;32m----> 1\u001b[0m \u001b[43mnew_agent\u001b[49m\u001b[38;5;241;43m.\u001b[39;49m\u001b[43mtrain\u001b[49m\u001b[43m(\u001b[49m\u001b[43mconvo_ids\u001b[49m\u001b[38;5;241;43m=\u001b[39;49m\u001b[43m[\u001b[49m\u001b[38;5;241;43m0\u001b[39;49m\u001b[43m]\u001b[49m\u001b[43m,\u001b[49m\u001b[43m \u001b[49m\u001b[43msort_key\u001b[49m\u001b[38;5;241;43m=\u001b[39;49m\u001b[43mparse_date\u001b[49m\u001b[43m)\u001b[49m\n",
      "File \u001b[0;32m~/Desktop/midas/examples/../midas/agent.py:268\u001b[0m, in \u001b[0;36mMidas.train\u001b[0;34m(self, convo_ids, sort_key)\u001b[0m\n\u001b[1;32m    265\u001b[0m     convo_ids \u001b[38;5;241m=\u001b[39m [convo_ids]\n\u001b[1;32m    267\u001b[0m \u001b[38;5;28;01mfor\u001b[39;00m convo_id \u001b[38;5;129;01min\u001b[39;00m convo_ids:\n\u001b[0;32m--> 268\u001b[0m     output, \u001b[38;5;28meval\u001b[39m, mod \u001b[38;5;241m=\u001b[39m \u001b[38;5;28;43mself\u001b[39;49m\u001b[38;5;241;43m.\u001b[39;49m\u001b[43mevaluate\u001b[49m\u001b[43m(\u001b[49m\u001b[43mconvo_id\u001b[49m\u001b[43m,\u001b[49m\u001b[43m \u001b[49m\u001b[43msort_key\u001b[49m\u001b[43m)\u001b[49m\n\u001b[1;32m    269\u001b[0m     \u001b[38;5;28mself\u001b[39m\u001b[38;5;241m.\u001b[39mprompt\u001b[38;5;241m.\u001b[39mmod \u001b[38;5;241m=\u001b[39m mod\n",
      "File \u001b[0;32m~/Desktop/midas/examples/../midas/agent.py:145\u001b[0m, in \u001b[0;36mMidas.evaluate\u001b[0;34m(self, convo_id, sort_key)\u001b[0m\n\u001b[1;32m    141\u001b[0m \u001b[38;5;28;01mdef\u001b[39;00m \u001b[38;5;21mevaluate\u001b[39m(\u001b[38;5;28mself\u001b[39m, convo_id, sort_key\u001b[38;5;241m=\u001b[39m\u001b[38;5;28;01mNone\u001b[39;00m):\n\u001b[1;32m    143\u001b[0m     criteria_str \u001b[38;5;241m=\u001b[39m \u001b[38;5;28mself\u001b[39m\u001b[38;5;241m.\u001b[39mgenerate_criteria_str()\n\u001b[0;32m--> 145\u001b[0m     output \u001b[38;5;241m=\u001b[39m \u001b[38;5;28;43mself\u001b[39;49m\u001b[38;5;241;43m.\u001b[39;49m\u001b[43mrun\u001b[49m\u001b[43m(\u001b[49m\u001b[43mconvo_id\u001b[49m\u001b[43m,\u001b[49m\u001b[43m \u001b[49m\u001b[43msort_key\u001b[49m\u001b[43m)\u001b[49m\n\u001b[1;32m    147\u001b[0m     eval_completion \u001b[38;5;241m=\u001b[39m \u001b[38;5;28mself\u001b[39m\u001b[38;5;241m.\u001b[39mclient\u001b[38;5;241m.\u001b[39mchat\u001b[38;5;241m.\u001b[39mcompletions\u001b[38;5;241m.\u001b[39mcreate(\n\u001b[1;32m    148\u001b[0m         model\u001b[38;5;241m=\u001b[39m\u001b[38;5;124m\"\u001b[39m\u001b[38;5;124mgpt-3.5-turbo-0125\u001b[39m\u001b[38;5;124m\"\u001b[39m,\n\u001b[1;32m    149\u001b[0m         messages\u001b[38;5;241m=\u001b[39m[\n\u001b[0;32m   (...)\u001b[0m\n\u001b[1;32m    153\u001b[0m         temperature\u001b[38;5;241m=\u001b[39m\u001b[38;5;241m0\u001b[39m\n\u001b[1;32m    154\u001b[0m     )\n\u001b[1;32m    156\u001b[0m     \u001b[38;5;28meval\u001b[39m \u001b[38;5;241m=\u001b[39m eval_completion\u001b[38;5;241m.\u001b[39mchoices[\u001b[38;5;241m0\u001b[39m]\u001b[38;5;241m.\u001b[39mmessage\u001b[38;5;241m.\u001b[39mcontent\n",
      "File \u001b[0;32m~/Desktop/midas/examples/../midas/agent.py:119\u001b[0m, in \u001b[0;36mMidas.run\u001b[0;34m(self, convo_id, sort_key)\u001b[0m\n\u001b[1;32m    116\u001b[0m \u001b[38;5;28mprint\u001b[39m(u\u001b[38;5;241m.\u001b[39mbold(\u001b[38;5;124m'\u001b[39m\u001b[38;5;124mCriteria:\u001b[39m\u001b[38;5;124m'\u001b[39m))\n\u001b[1;32m    117\u001b[0m \u001b[38;5;28mprint\u001b[39m(criteria_str)\n\u001b[0;32m--> 119\u001b[0m chunk_str \u001b[38;5;241m=\u001b[39m \u001b[38;5;28;43mself\u001b[39;49m\u001b[38;5;241;43m.\u001b[39;49m\u001b[43mgenerate_chunk_str\u001b[49m\u001b[43m(\u001b[49m\u001b[43mconvo_id\u001b[49m\u001b[43m,\u001b[49m\u001b[43m \u001b[49m\u001b[43msort_key\u001b[49m\u001b[43m)\u001b[49m\n\u001b[1;32m    121\u001b[0m \u001b[38;5;28mprint\u001b[39m(u\u001b[38;5;241m.\u001b[39mbold(\u001b[38;5;124m'\u001b[39m\u001b[38;5;124mContext Provided:\u001b[39m\u001b[38;5;124m'\u001b[39m))\n\u001b[1;32m    122\u001b[0m \u001b[38;5;28mprint\u001b[39m(chunk_str)\n",
      "File \u001b[0;32m~/Desktop/midas/examples/../midas/agent.py:252\u001b[0m, in \u001b[0;36mMidas.generate_chunk_str\u001b[0;34m(self, convo_id, sort_key)\u001b[0m\n\u001b[1;32m    248\u001b[0m         retrieved_str \u001b[38;5;241m+\u001b[39m\u001b[38;5;241m=\u001b[39m chunk_str\n\u001b[1;32m    250\u001b[0m     \u001b[38;5;28;01mreturn\u001b[39;00m retrieved_str\n\u001b[0;32m--> 252\u001b[0m retrieved_chunks \u001b[38;5;241m=\u001b[39m \u001b[43mretrieve_subquery_chunks\u001b[49m\u001b[43m(\u001b[49m\u001b[43m)\u001b[49m\n\u001b[1;32m    253\u001b[0m processed_chunks_lst \u001b[38;5;241m=\u001b[39m process_chunks(retrieved_chunks)\n\u001b[1;32m    255\u001b[0m \u001b[38;5;28;01mif\u001b[39;00m sort_key:\n",
      "File \u001b[0;32m~/Desktop/midas/examples/../midas/agent.py:206\u001b[0m, in \u001b[0;36mMidas.generate_chunk_str.<locals>.retrieve_subquery_chunks\u001b[0;34m()\u001b[0m\n\u001b[1;32m    204\u001b[0m \u001b[38;5;28;01mdef\u001b[39;00m \u001b[38;5;21mretrieve_subquery_chunks\u001b[39m():\n\u001b[1;32m    205\u001b[0m     \u001b[38;5;28;01mwith\u001b[39;00m ProcessPoolExecutor() \u001b[38;5;28;01mas\u001b[39;00m executor:\n\u001b[0;32m--> 206\u001b[0m         results \u001b[38;5;241m=\u001b[39m \u001b[38;5;28;43mlist\u001b[39;49m\u001b[43m(\u001b[49m\u001b[43mexecutor\u001b[49m\u001b[38;5;241;43m.\u001b[39;49m\u001b[43mmap\u001b[49m\u001b[43m(\u001b[49m\n\u001b[1;32m    207\u001b[0m \u001b[43m            \u001b[49m\u001b[43mq\u001b[49m\u001b[38;5;241;43m.\u001b[39;49m\u001b[43magent_subquery_retrieval\u001b[49m\u001b[43m,\u001b[49m\n\u001b[1;32m    208\u001b[0m \u001b[43m            \u001b[49m\u001b[38;5;28;43mself\u001b[39;49m\u001b[38;5;241;43m.\u001b[39;49m\u001b[43msubquery\u001b[49m\u001b[38;5;241;43m.\u001b[39;49m\u001b[43mdata\u001b[49m\u001b[38;5;241;43m.\u001b[39;49m\u001b[43mitems\u001b[49m\u001b[43m(\u001b[49m\u001b[43m)\u001b[49m\u001b[43m,\u001b[49m\n\u001b[1;32m    209\u001b[0m \u001b[43m            \u001b[49m\u001b[43mrepeat\u001b[49m\u001b[43m(\u001b[49m\u001b[43mconvo_id\u001b[49m\u001b[43m)\u001b[49m\n\u001b[1;32m    210\u001b[0m \u001b[43m        \u001b[49m\u001b[43m)\u001b[49m\u001b[43m)\u001b[49m\n\u001b[1;32m    212\u001b[0m     retrieved_chunks \u001b[38;5;241m=\u001b[39m \u001b[38;5;28mdict\u001b[39m(results)\n\u001b[1;32m    214\u001b[0m     \u001b[38;5;28;01mreturn\u001b[39;00m retrieved_chunks\n",
      "File \u001b[0;32m~/.pyenv/versions/3.12.0/lib/python3.12/concurrent/futures/process.py:608\u001b[0m, in \u001b[0;36m_chain_from_iterable_of_lists\u001b[0;34m(iterable)\u001b[0m\n\u001b[1;32m    602\u001b[0m \u001b[38;5;28;01mdef\u001b[39;00m \u001b[38;5;21m_chain_from_iterable_of_lists\u001b[39m(iterable):\n\u001b[1;32m    603\u001b[0m \u001b[38;5;250m    \u001b[39m\u001b[38;5;124;03m\"\"\"\u001b[39;00m\n\u001b[1;32m    604\u001b[0m \u001b[38;5;124;03m    Specialized implementation of itertools.chain.from_iterable.\u001b[39;00m\n\u001b[1;32m    605\u001b[0m \u001b[38;5;124;03m    Each item in *iterable* should be a list.  This function is\u001b[39;00m\n\u001b[1;32m    606\u001b[0m \u001b[38;5;124;03m    careful not to keep references to yielded objects.\u001b[39;00m\n\u001b[1;32m    607\u001b[0m \u001b[38;5;124;03m    \"\"\"\u001b[39;00m\n\u001b[0;32m--> 608\u001b[0m \u001b[43m    \u001b[49m\u001b[38;5;28;43;01mfor\u001b[39;49;00m\u001b[43m \u001b[49m\u001b[43melement\u001b[49m\u001b[43m \u001b[49m\u001b[38;5;129;43;01min\u001b[39;49;00m\u001b[43m \u001b[49m\u001b[43miterable\u001b[49m\u001b[43m:\u001b[49m\n\u001b[1;32m    609\u001b[0m \u001b[43m        \u001b[49m\u001b[43melement\u001b[49m\u001b[38;5;241;43m.\u001b[39;49m\u001b[43mreverse\u001b[49m\u001b[43m(\u001b[49m\u001b[43m)\u001b[49m\n\u001b[1;32m    610\u001b[0m \u001b[43m        \u001b[49m\u001b[38;5;28;43;01mwhile\u001b[39;49;00m\u001b[43m \u001b[49m\u001b[43melement\u001b[49m\u001b[43m:\u001b[49m\n",
      "File \u001b[0;32m~/.pyenv/versions/3.12.0/lib/python3.12/concurrent/futures/_base.py:619\u001b[0m, in \u001b[0;36mExecutor.map.<locals>.result_iterator\u001b[0;34m()\u001b[0m\n\u001b[1;32m    616\u001b[0m \u001b[38;5;28;01mwhile\u001b[39;00m fs:\n\u001b[1;32m    617\u001b[0m     \u001b[38;5;66;03m# Careful not to keep a reference to the popped future\u001b[39;00m\n\u001b[1;32m    618\u001b[0m     \u001b[38;5;28;01mif\u001b[39;00m timeout \u001b[38;5;129;01mis\u001b[39;00m \u001b[38;5;28;01mNone\u001b[39;00m:\n\u001b[0;32m--> 619\u001b[0m         \u001b[38;5;28;01myield\u001b[39;00m \u001b[43m_result_or_cancel\u001b[49m\u001b[43m(\u001b[49m\u001b[43mfs\u001b[49m\u001b[38;5;241;43m.\u001b[39;49m\u001b[43mpop\u001b[49m\u001b[43m(\u001b[49m\u001b[43m)\u001b[49m\u001b[43m)\u001b[49m\n\u001b[1;32m    620\u001b[0m     \u001b[38;5;28;01melse\u001b[39;00m:\n\u001b[1;32m    621\u001b[0m         \u001b[38;5;28;01myield\u001b[39;00m _result_or_cancel(fs\u001b[38;5;241m.\u001b[39mpop(), end_time \u001b[38;5;241m-\u001b[39m time\u001b[38;5;241m.\u001b[39mmonotonic())\n",
      "File \u001b[0;32m~/.pyenv/versions/3.12.0/lib/python3.12/concurrent/futures/_base.py:317\u001b[0m, in \u001b[0;36m_result_or_cancel\u001b[0;34m(***failed resolving arguments***)\u001b[0m\n\u001b[1;32m    315\u001b[0m \u001b[38;5;28;01mtry\u001b[39;00m:\n\u001b[1;32m    316\u001b[0m     \u001b[38;5;28;01mtry\u001b[39;00m:\n\u001b[0;32m--> 317\u001b[0m         \u001b[38;5;28;01mreturn\u001b[39;00m \u001b[43mfut\u001b[49m\u001b[38;5;241;43m.\u001b[39;49m\u001b[43mresult\u001b[49m\u001b[43m(\u001b[49m\u001b[43mtimeout\u001b[49m\u001b[43m)\u001b[49m\n\u001b[1;32m    318\u001b[0m     \u001b[38;5;28;01mfinally\u001b[39;00m:\n\u001b[1;32m    319\u001b[0m         fut\u001b[38;5;241m.\u001b[39mcancel()\n",
      "File \u001b[0;32m~/.pyenv/versions/3.12.0/lib/python3.12/concurrent/futures/_base.py:456\u001b[0m, in \u001b[0;36mFuture.result\u001b[0;34m(self, timeout)\u001b[0m\n\u001b[1;32m    454\u001b[0m     \u001b[38;5;28;01mraise\u001b[39;00m CancelledError()\n\u001b[1;32m    455\u001b[0m \u001b[38;5;28;01melif\u001b[39;00m \u001b[38;5;28mself\u001b[39m\u001b[38;5;241m.\u001b[39m_state \u001b[38;5;241m==\u001b[39m FINISHED:\n\u001b[0;32m--> 456\u001b[0m     \u001b[38;5;28;01mreturn\u001b[39;00m \u001b[38;5;28;43mself\u001b[39;49m\u001b[38;5;241;43m.\u001b[39;49m\u001b[43m__get_result\u001b[49m\u001b[43m(\u001b[49m\u001b[43m)\u001b[49m\n\u001b[1;32m    457\u001b[0m \u001b[38;5;28;01melse\u001b[39;00m:\n\u001b[1;32m    458\u001b[0m     \u001b[38;5;28;01mraise\u001b[39;00m \u001b[38;5;167;01mTimeoutError\u001b[39;00m()\n",
      "File \u001b[0;32m~/.pyenv/versions/3.12.0/lib/python3.12/concurrent/futures/_base.py:401\u001b[0m, in \u001b[0;36mFuture.__get_result\u001b[0;34m(self)\u001b[0m\n\u001b[1;32m    399\u001b[0m \u001b[38;5;28;01mif\u001b[39;00m \u001b[38;5;28mself\u001b[39m\u001b[38;5;241m.\u001b[39m_exception:\n\u001b[1;32m    400\u001b[0m     \u001b[38;5;28;01mtry\u001b[39;00m:\n\u001b[0;32m--> 401\u001b[0m         \u001b[38;5;28;01mraise\u001b[39;00m \u001b[38;5;28mself\u001b[39m\u001b[38;5;241m.\u001b[39m_exception\n\u001b[1;32m    402\u001b[0m     \u001b[38;5;28;01mfinally\u001b[39;00m:\n\u001b[1;32m    403\u001b[0m         \u001b[38;5;66;03m# Break a reference cycle with the exception in self._exception\u001b[39;00m\n\u001b[1;32m    404\u001b[0m         \u001b[38;5;28mself\u001b[39m \u001b[38;5;241m=\u001b[39m \u001b[38;5;28;01mNone\u001b[39;00m\n",
      "\u001b[0;31mBrokenProcessPool\u001b[0m: A process in the process pool was terminated abruptly while the future was running or pending."
     ]
    }
   ],
   "source": [
    "new_agent.train(convo_ids=[0], sort_key=parse_date)"
   ]
  },
  {
   "cell_type": "code",
   "execution_count": 9,
   "id": "d5ac2474-a923-4061-a831-79fea43b2fac",
   "metadata": {},
   "outputs": [],
   "source": [
    "result = new_agent.run(convo_id=0, sort_key=parse_date)"
   ]
  },
  {
   "cell_type": "code",
   "execution_count": 11,
   "id": "1a457a8c-41fd-4ad8-9173-6e48388ce877",
   "metadata": {},
   "outputs": [
    {
     "data": {
      "text/plain": [
       "\u001b[1mMidas(Sales Order Extractor)\n",
       "\u001b[0m\n",
       "\u001b[1mOriginal User Prompt:\n",
       "\u001b[0m\n",
       "For each item that the buyer agreed to purchase, return the item name, item description, quantity purchased, unit price in dollars, unit discount in dollars, and final total price per item (quantity * (unit price - unit discount)) . Each sku of the purchased item should be treated as a separate item.\n",
       "\n",
       "Output the result in JSON format following the example below. Each line item should have its own list under lineItems. Include all non quantity and price related details of each item under its description.\n",
       "\n",
       "{ \"orderDetails\":{ \"orderDate\": \"\", \"orderNum\": null, }, \"buyer\":{ \"companyName\": \"\", \"pointOfContact\": \"\", \"contactEmail\": \"\", \"contactPhone\": \"\", \"shippingAddress\": \"\", }, \"lineItems\":[{ \"itemNumber\": null, \"description\": \"\", \"quantity\": null, \"unitPrice\": null, \"discount\": null, “totalPrice”: null}]}\n",
       "\n",
       "\n",
       "\u001b[1mSubqueries:\n",
       "\u001b[0m - [purchased items] item name, item description, quantity purchased, unit price in dollars, unit discount in dollars, final total price per item\n",
       " - [SKU] treated as separate item\n",
       " - [output format] JSON format\n",
       " - [order details] orderDate, orderNum\n",
       " - [buyer details] companyName, pointOfContact, contactEmail, contactPhone, shippingAddress\n",
       "\n",
       "\u001b[1mAgent Criteria:\n",
       "\u001b[0m - [Correctness] Ensure that the output includes all items the buyer agreed to purchase, treating each SKU as a separate item.\n",
       " - [Completeness] Include item name, item description, quantity purchased, unit price in dollars, unit discount in dollars, and final total price per item for each line item.\n",
       " - [Accuracy] Calculate the final total price per item correctly (quantity * (unit price - unit discount)).\n",
       " - [Consistency] Maintain a consistent format for each line item in the output JSON.\n",
       " - [Clarity] Ensure that all non-quantity and price related details of each item are included under its description.\n",
       " - [Relevance] Include relevant details such as order date, order number, buyer information, and shipping address in the output JSON.\n",
       " - [Formatting] Present the output in a well-structured JSON format with appropriate indentation and key-value pairs.\n",
       " - [SKU Handling] Treat each SKU of the purchased item as a separate line item in the output.\n",
       " - [Contact Information] Include buyer's company name, point of contact, contact email, and contact phone in the output JSON.\n",
       " - [Shipping Address] Include the buyer's shipping address in the output JSON.\n",
       " - [Item Details] Ensure that each line item includes item number, description, quantity, unit price, discount, and total price.\n",
       " - [Order Details] Include order date and order number in the output JSON under orderDetails.\n",
       "\n",
       "\u001b[1mUser Criteria:\n",
       "\u001b[0m - [format] the format should be outputted as a single string representing a JSON object\n",
       " - [no_markdown] the output should not be in markdown, it should not contain backticks"
      ]
     },
     "execution_count": 11,
     "metadata": {},
     "output_type": "execute_result"
    }
   ],
   "source": [
    "new_agent"
   ]
  },
  {
   "cell_type": "code",
   "execution_count": null,
   "id": "7606b215-a073-4cbe-bece-f3bdcdfb62d3",
   "metadata": {},
   "outputs": [],
   "source": []
  },
  {
   "cell_type": "code",
   "execution_count": null,
   "id": "16707907-74d4-4198-86b1-a2f8746cac3f",
   "metadata": {},
   "outputs": [],
   "source": []
  },
  {
   "cell_type": "code",
   "execution_count": null,
   "id": "70dcd09e-5101-4b4e-8c25-832d46c3c6f9",
   "metadata": {},
   "outputs": [],
   "source": []
  },
  {
   "cell_type": "code",
   "execution_count": 29,
   "id": "491a651f-4212-41df-92ce-519537772d05",
   "metadata": {},
   "outputs": [],
   "source": [
    "new_agent.save('../saved_agents/first_subquery_save.json')"
   ]
  },
  {
   "cell_type": "code",
   "execution_count": 10,
   "id": "958f072c-d4e7-44c0-96dd-3b9c3a84a046",
   "metadata": {},
   "outputs": [],
   "source": [
    "new_agent.save('../saved_agents/second_subquery_save.json')"
   ]
  },
  {
   "cell_type": "code",
   "execution_count": null,
   "id": "34bee2fa-ce2a-4633-a601-de5d3becbf89",
   "metadata": {},
   "outputs": [],
   "source": []
  }
 ],
 "metadata": {
  "kernelspec": {
   "display_name": "Python 3 (ipykernel)",
   "language": "python",
   "name": "python3"
  },
  "language_info": {
   "codemirror_mode": {
    "name": "ipython",
    "version": 3
   },
   "file_extension": ".py",
   "mimetype": "text/x-python",
   "name": "python",
   "nbconvert_exporter": "python",
   "pygments_lexer": "ipython3",
   "version": "3.12.0"
  }
 },
 "nbformat": 4,
 "nbformat_minor": 5
}
