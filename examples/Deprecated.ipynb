{
 "cells": [
  {
   "cell_type": "code",
   "execution_count": 1,
   "id": "07833783-2003-4cb1-a2b5-32beac2d65cd",
   "metadata": {},
   "outputs": [],
   "source": [
    "import json\n",
    "import sys  \n",
    "\n",
    "sys.path.insert(1, '/Users/kaihayden/Desktop/midas')"
   ]
  },
  {
   "cell_type": "code",
   "execution_count": 2,
   "id": "778c4454-2f16-490b-a009-9ac6080f683f",
   "metadata": {},
   "outputs": [],
   "source": [
    "from midas.agent import Midas\n",
    "from datetime import datetime"
   ]
  },
  {
   "cell_type": "code",
   "execution_count": 3,
   "id": "985f06a7-0b7a-40ef-81bb-38642b6b4352",
   "metadata": {},
   "outputs": [],
   "source": [
    "filepath_1='../saved_agents/first_subquery_save.json'\n",
    "filepath_2='../saved_agents/second_subquery_save.json'"
   ]
  },
  {
   "cell_type": "code",
   "execution_count": 4,
   "id": "4830be4c-9f16-4c9f-8a78-267116d6c8a2",
   "metadata": {},
   "outputs": [],
   "source": [
    "agent_1 = Midas()\n",
    "agent_1.load(filepath_1)"
   ]
  },
  {
   "cell_type": "code",
   "execution_count": 5,
   "id": "c3c664b8-288b-4a69-bf07-ead423e13788",
   "metadata": {},
   "outputs": [
    {
     "data": {
      "text/plain": [
       "\u001b[1mMidas()\n",
       "\u001b[0m\n",
       "\u001b[1mOriginal User Prompt:\n",
       "\u001b[0m\n",
       "For each item that the buyer agreed to purchase, return the item name, item description, quantity purchased, unit price in dollars, unit discount in dollars, and final total price per item (quantity * (unit price - unit discount)) . Each sku of the purchased item should be treated as a separate item.\n",
       "\n",
       "Output the result in JSON format following the example below. Each line item should have its own list under lineItems. Include all non quantity and price related details of each item under its description.\n",
       "\n",
       "{ \"orderDetails\":{ \"orderDate\": \"\", \"orderNum\": null, }, \"buyer\":{ \"companyName\": \"\", \"pointOfContact\": \"\", \"contactEmail\": \"\", \"contactPhone\": \"\", \"shippingAddress\": \"\", }, \"lineItems\":[{ \"itemNumber\": null, \"description\": \"\", \"quantity\": null, \"unitPrice\": null, \"discount\": null, “totalPrice”: null}]}\n",
       "\n",
       "\n",
       "\u001b[1mSubqueries:\n",
       "\u001b[0m - [itemDetails] buyer agreed to purchase\n",
       " - [itemName] item name\n",
       " - [itemDescription] item description\n",
       " - [quantityPurchased] quantity purchased\n",
       " - [unitPriceInDollars] unit price in dollars\n",
       " - [unitDiscountInDollars] unit discount in dollars\n",
       " - [finalTotalPricePerItem] final total price per item (quantity * (unit price - unit discount))\n",
       "\n",
       "\u001b[1mAgent Criteria:\n",
       "\u001b[0m - [orderDetails] Check if orderDate and orderNum are included in the output.\n",
       " - [buyer] Ensure companyName, pointOfContact, contactEmail, contactPhone, and shippingAddress are provided in the output.\n",
       " - [lineItems] For each purchased item, make sure to include itemNumber, description, quantity, unitPrice, discount, and totalPrice in the output. Treat each SKU of the item as a separate line item. Include all non-quantity and price related details under description.\n",
       "\n",
       "\u001b[1mUser Criteria:\n",
       "\u001b[0m - [format] the format should be outputted as a single string representing a JSON object\n",
       " - [no_markdown] the output should not be in markdown, it should not contain backticks\n",
       " - [loading] the output should be directly usable by json.loads() in python and should not contain the string \n"
      ]
     },
     "execution_count": 5,
     "metadata": {},
     "output_type": "execute_result"
    }
   ],
   "source": [
    "agent_1"
   ]
  },
  {
   "cell_type": "code",
   "execution_count": 6,
   "id": "f79f95f9-0e41-4abc-a4f5-a3d0cfd5d342",
   "metadata": {},
   "outputs": [],
   "source": [
    "def parse_date(d):\n",
    "    return datetime.strptime(d['metadata']['date'], '%m/%d/%Y, %H:%M')"
   ]
  },
  {
   "cell_type": "code",
   "execution_count": 7,
   "id": "b9b68541-b90b-4869-9f1d-cd84a31f832e",
   "metadata": {},
   "outputs": [],
   "source": [
    "output = agent_1.run(convo_id=0, sort_key=parse_date)"
   ]
  },
  {
   "cell_type": "code",
   "execution_count": 1,
   "id": "6da064d9-d862-4b66-900a-93924a013572",
   "metadata": {},
   "outputs": [
    {
     "ename": "NameError",
     "evalue": "name 'json' is not defined",
     "output_type": "error",
     "traceback": [
      "\u001b[0;31m---------------------------------------------------------------------------\u001b[0m",
      "\u001b[0;31mNameError\u001b[0m                                 Traceback (most recent call last)",
      "Cell \u001b[0;32mIn[1], line 1\u001b[0m\n\u001b[0;32m----> 1\u001b[0m \u001b[38;5;28mprint\u001b[39m(\u001b[43mjson\u001b[49m\u001b[38;5;241m.\u001b[39mdumps(json\u001b[38;5;241m.\u001b[39mloads(output), indent\u001b[38;5;241m=\u001b[39m\u001b[38;5;241m4\u001b[39m))\n",
      "\u001b[0;31mNameError\u001b[0m: name 'json' is not defined"
     ]
    }
   ],
   "source": [
    "print(json.dumps(json.loads(output), indent=4))"
   ]
  },
  {
   "cell_type": "code",
   "execution_count": null,
   "id": "ab2d530b-f113-4ff1-853b-e67e50a75957",
   "metadata": {},
   "outputs": [],
   "source": []
  },
  {
   "cell_type": "code",
   "execution_count": null,
   "id": "4603e581-aafe-4d87-ba42-8cf548f2b1a6",
   "metadata": {},
   "outputs": [],
   "source": []
  },
  {
   "cell_type": "code",
   "execution_count": null,
   "id": "f8a5bc0e-54b7-429e-8efd-cbd3c2806163",
   "metadata": {},
   "outputs": [],
   "source": []
  },
  {
   "cell_type": "code",
   "execution_count": 93,
   "id": "529b3e6a-aeed-4167-976f-c2a1f5da03a9",
   "metadata": {},
   "outputs": [],
   "source": [
    "output, eval, mod = agent_1.evaluate(convo_id=0, sort_key=parse_date)\n"
   ]
  },
  {
   "cell_type": "code",
   "execution_count": null,
   "id": "02fb740e-b89f-4e9f-935c-d21de213eee1",
   "metadata": {},
   "outputs": [],
   "source": []
  },
  {
   "cell_type": "code",
   "execution_count": null,
   "id": "18725fd0-e26e-43ae-a274-1d65969fdff2",
   "metadata": {},
   "outputs": [],
   "source": []
  },
  {
   "cell_type": "code",
   "execution_count": null,
   "id": "5805c177-92e2-4354-aa4c-2e937e4bac8e",
   "metadata": {},
   "outputs": [],
   "source": []
  },
  {
   "cell_type": "code",
   "execution_count": 76,
   "id": "d1db130a-8041-4b07-9b4b-2bc36de0319d",
   "metadata": {},
   "outputs": [
    {
     "name": "stdout",
     "output_type": "stream",
     "text": [
      "the output should be directly usable by json.loads() in python and should not contain the string \\n\n"
     ]
    }
   ],
   "source": [
    "print(agent_1.criteria.data['UserCriteria']['loading'].mod)"
   ]
  },
  {
   "cell_type": "code",
   "execution_count": 104,
   "id": "e53b50d3-f28f-4745-98be-cea86bf8f7a7",
   "metadata": {},
   "outputs": [
    {
     "name": "stdout",
     "output_type": "stream",
     "text": [
      "{\n",
      "    \"orderDetails\": {\n",
      "        \"orderDate\": \"02/03/2024\",\n",
      "        \"orderNum\": null\n",
      "    },\n",
      "    \"buyer\": {\n",
      "        \"companyName\": \"LlamaIndex\",\n",
      "        \"pointOfContact\": \"Mohnish Shah\",\n",
      "        \"contactEmail\": \"shahmohnish@gmail.com\",\n",
      "        \"contactPhone\": \"\",\n",
      "        \"shippingAddress\": \"\"\n",
      "    },\n",
      "    \"lineItems\": [\n",
      "        {\n",
      "            \"itemNumber\": null,\n",
      "            \"description\": {\n",
      "                \"item\": \"Blue and Pink Multi-Colored Hoodie\",\n",
      "                \"color\": \"Blue and Pink Multi-Colored\",\n",
      "                \"size\": \"Small\",\n",
      "                \"discount\": \"10%\",\n",
      "                \"discountedPrice\": \"$270\"\n",
      "            },\n",
      "            \"quantity\": 15,\n",
      "            \"unitPrice\": 300,\n",
      "            \"discount\": 30,\n",
      "            \"totalPrice\": 4050\n",
      "        },\n",
      "        {\n",
      "            \"itemNumber\": null,\n",
      "            \"description\": {\n",
      "                \"item\": \"Blue and Pink Multi-Colored Hoodie\",\n",
      "                \"color\": \"Blue and Pink Multi-Colored\",\n",
      "                \"size\": \"Medium\",\n",
      "                \"discount\": \"10%\",\n",
      "                \"discountedPrice\": \"$270\"\n",
      "            },\n",
      "            \"quantity\": 15,\n",
      "            \"unitPrice\": 300,\n",
      "            \"discount\": 30,\n",
      "            \"totalPrice\": 4050\n",
      "        },\n",
      "        {\n",
      "            \"itemNumber\": null,\n",
      "            \"description\": {\n",
      "                \"item\": \"Blue and Pink Multi-Colored Hoodie\",\n",
      "                \"color\": \"Blue and Pink Multi-Colored\",\n",
      "                \"size\": \"Large\",\n",
      "                \"discount\": \"10%\",\n",
      "                \"discountedPrice\": \"$270\"\n",
      "            },\n",
      "            \"quantity\": 20,\n",
      "            \"unitPrice\": 300,\n",
      "            \"discount\": 30,\n",
      "            \"totalPrice\": 5400\n",
      "        }\n",
      "    ]\n",
      "}\n"
     ]
    }
   ],
   "source": [
    "print(json.dumps(json.loads(output), indent=4))"
   ]
  },
  {
   "cell_type": "code",
   "execution_count": 105,
   "id": "cdf0cad8-5114-408b-ae7a-64d35ef6e1e9",
   "metadata": {},
   "outputs": [
    {
     "name": "stdout",
     "output_type": "stream",
     "text": [
      "The output closely follows the specified criteria, with a few areas for improvement:\n",
      "\n",
      "1. **Format**: The output is correctly formatted as a single string representing a JSON object. It adheres to the JSON format standards, making it directly usable by `json.loads()` in Python.\n",
      "\n",
      "2. **No Markdown**: The output does not contain markdown formatting, which aligns with the requirement.\n",
      "\n",
      "3. **Loading**: The output string does not contain the string \"loading\", ensuring it's ready for direct use in JSON parsing functions without additional preprocessing.\n",
      "\n",
      "4. **Order Details**: The `orderDate` is included and correctly formatted. However, `orderNum` is present but set to `null`. If the order number is not available or unknown, this is acceptable. Otherwise, it should be populated with the appropriate value.\n",
      "\n",
      "5. **Buyer**: All required fields (`companyName`, `pointOfContact`, `contactEmail`, `contactPhone`, and `shippingAddress`) are included. The `contactPhone` and `shippingAddress` are empty strings; if this information is available, it should be filled in. If not, this representation is correct.\n",
      "\n",
      "6. **Line Items**: Each line item includes `itemNumber`, `description`, `quantity`, `unitPrice`, `discount`, and `totalPrice`. However, `itemNumber` is set to `null` for all items. If unique item numbers are available, they should be provided. The `description` field correctly contains non-quantity and price-related details, which is in line with the requirements. The calculation for `totalPrice` seems to be correctly implemented as `quantity * (unitPrice - discount)`.\n",
      "\n",
      "**Areas for Improvement**:\n",
      "\n",
      "- **Item Number**: If specific item numbers are available for each SKU, they should be included instead of `null`. This would help in uniquely identifying each line item.\n",
      "- **Contact Phone and Shipping Address**: If the data is available, filling in the `contactPhone` and `shippingAddress` fields would complete the buyer's information. If not applicable, the current representation is acceptable.\n",
      "\n",
      "Overall, the output is of high quality and meets most of the specified criteria. The main area for improvement is the potential inclusion of specific item numbers and possibly filling in any known `contactPhone` and `shippingAddress` details for the buyer.\n"
     ]
    }
   ],
   "source": [
    "print(eval)"
   ]
  },
  {
   "cell_type": "code",
   "execution_count": 106,
   "id": "38278436-3117-4fd5-a3a8-af6463b3c0e5",
   "metadata": {},
   "outputs": [
    {
     "name": "stdout",
     "output_type": "stream",
     "text": [
      "\n",
      "For each item that the buyer agreed to purchase, return the item name, item description, quantity purchased, unit price in dollars, unit discount in dollars, and final total price per item (quantity * (unit price - unit discount)) . Each sku of the purchased item should be treated as a separate item.\n",
      "\n",
      "Output the result in JSON format following the example below. Each line item should have its own list under lineItems. Include all non quantity and price related details of each item under its description.\n",
      "\n",
      "{ \"orderDetails\":{ \"orderDate\": \"\", \"orderNum\": null, }, \"buyer\":{ \"companyName\": \"\", \"pointOfContact\": \"\", \"contactEmail\": \"\", \"contactPhone\": \"\", \"shippingAddress\": \"\", }, \"lineItems\":[{ \"itemNumber\": null, \"description\": \"\", \"quantity\": null, \"unitPrice\": null, \"discount\": null, “totalPrice”: null}]}\n",
      "\n"
     ]
    }
   ],
   "source": [
    "print(agent_1.prompt.raw)"
   ]
  },
  {
   "cell_type": "code",
   "execution_count": 107,
   "id": "e71f6995-7ef5-4440-b668-6bbdfb3aa51c",
   "metadata": {},
   "outputs": [
    {
     "name": "stdout",
     "output_type": "stream",
     "text": [
      "For each item that the buyer agreed to purchase, return the item name, item description, quantity purchased, unit price in dollars, unit discount in dollars, and final total price per item (quantity * (unit price - unit discount)). Treat each SKU of the purchased item as a separate item, ensuring to include specific item numbers if available. \n",
      "\n",
      "Output the result in JSON format without markdown formatting, ensuring it does not contain the string \"loading\" and is directly usable by `json.loads()` in Python. Each line item should have its own list under lineItems, with all non-quantity and price-related details included in its description. If the contact phone and shipping address are available, include them; otherwise, leave them as empty strings.\n",
      "\n",
      "{\n",
      "  \"orderDetails\": {\n",
      "    \"orderDate\": \"\",\n",
      "    \"orderNum\": null\n",
      "  },\n",
      "  \"buyer\": {\n",
      "    \"companyName\": \"\",\n",
      "    \"pointOfContact\": \"\",\n",
      "    \"contactEmail\": \"\",\n",
      "    \"contactPhone\": \"\",\n",
      "    \"shippingAddress\": \"\"\n",
      "  },\n",
      "  \"lineItems\": [\n",
      "    {\n",
      "      \"itemNumber\": null,\n",
      "      \"description\": \"\",\n",
      "      \"quantity\": null,\n",
      "      \"unitPrice\": null,\n",
      "      \"discount\": null,\n",
      "      \"totalPrice\": null\n",
      "    }\n",
      "  ]\n",
      "}\n"
     ]
    }
   ],
   "source": [
    "print(mod)"
   ]
  },
  {
   "cell_type": "code",
   "execution_count": null,
   "id": "0f3699fd-0db5-4e4a-b8c0-0209d44e25a4",
   "metadata": {},
   "outputs": [],
   "source": []
  },
  {
   "cell_type": "code",
   "execution_count": 108,
   "id": "bab60960-bb22-4df4-88cf-e54b06915664",
   "metadata": {},
   "outputs": [],
   "source": [
    "agent_2 = Midas()\n",
    "agent_2.load(filepath_2)"
   ]
  },
  {
   "cell_type": "code",
   "execution_count": 109,
   "id": "4f2131ae-7a21-4438-9a77-2c97c173bc0c",
   "metadata": {},
   "outputs": [],
   "source": [
    "output_2 = agent_2.run(convo_id=0, sort_key=parse_date)"
   ]
  },
  {
   "cell_type": "code",
   "execution_count": 110,
   "id": "4a76b7d1-63ed-4f4c-ac95-f93b5b004245",
   "metadata": {},
   "outputs": [
    {
     "name": "stdout",
     "output_type": "stream",
     "text": [
      "{\n",
      "    \"orderDetails\": {\n",
      "        \"orderDate\": \"02/03/2024\",\n",
      "        \"orderNum\": null\n",
      "    },\n",
      "    \"buyer\": {\n",
      "        \"companyName\": \"LlamaIndex\",\n",
      "        \"pointOfContact\": \"Mohnish Shah\",\n",
      "        \"contactEmail\": \"shahmohnish@gmail.com\",\n",
      "        \"contactPhone\": \"\",\n",
      "        \"shippingAddress\": \"\"\n",
      "    },\n",
      "    \"lineItems\": [\n",
      "        {\n",
      "            \"itemNumber\": null,\n",
      "            \"description\": {\n",
      "                \"item\": \"Blue and Pink Multi-Colored Hoodie\",\n",
      "                \"color\": \"Blue and Pink Multi-Colored\",\n",
      "                \"size\": \"Small\",\n",
      "                \"discount\": \"10%\",\n",
      "                \"discountedPrice\": \"$270\"\n",
      "            },\n",
      "            \"quantity\": 15,\n",
      "            \"unitPrice\": 300,\n",
      "            \"discount\": 30,\n",
      "            \"totalPrice\": 4050\n",
      "        },\n",
      "        {\n",
      "            \"itemNumber\": null,\n",
      "            \"description\": {\n",
      "                \"item\": \"Blue and Pink Multi-Colored Hoodie\",\n",
      "                \"color\": \"Blue and Pink Multi-Colored\",\n",
      "                \"size\": \"Medium\",\n",
      "                \"discount\": \"10%\",\n",
      "                \"discountedPrice\": \"$270\"\n",
      "            },\n",
      "            \"quantity\": 15,\n",
      "            \"unitPrice\": 300,\n",
      "            \"discount\": 30,\n",
      "            \"totalPrice\": 4050\n",
      "        },\n",
      "        {\n",
      "            \"itemNumber\": null,\n",
      "            \"description\": {\n",
      "                \"item\": \"Blue and Pink Multi-Colored Hoodie\",\n",
      "                \"color\": \"Blue and Pink Multi-Colored\",\n",
      "                \"size\": \"Large\",\n",
      "                \"discount\": \"10%\",\n",
      "                \"discountedPrice\": \"$270\"\n",
      "            },\n",
      "            \"quantity\": 20,\n",
      "            \"unitPrice\": 300,\n",
      "            \"discount\": 30,\n",
      "            \"totalPrice\": 5400\n",
      "        }\n",
      "    ]\n",
      "}\n"
     ]
    }
   ],
   "source": [
    "print(json.dumps(json.loads(output), indent=4))"
   ]
  },
  {
   "cell_type": "code",
   "execution_count": 111,
   "id": "7901134a-a790-4e91-a75a-01e9fe486a53",
   "metadata": {},
   "outputs": [
    {
     "name": "stdout",
     "output_type": "stream",
     "text": [
      "{\n",
      "    \"orderDetails\": {\n",
      "        \"orderDate\": \"02/03/2024, 11:21\",\n",
      "        \"orderNum\": null\n",
      "    },\n",
      "    \"buyer\": {\n",
      "        \"companyName\": \"LlamaIndex\",\n",
      "        \"pointOfContact\": \"LlamaIndex\",\n",
      "        \"contactEmail\": \"llamaindex@example.com\",\n",
      "        \"contactPhone\": \"\",\n",
      "        \"shippingAddress\": \"\"\n",
      "    },\n",
      "    \"lineItems\": [\n",
      "        {\n",
      "            \"itemNumber\": null,\n",
      "            \"description\": \"Blue and Pink Multi-Colored Hoodie\",\n",
      "            \"quantity\": 15,\n",
      "            \"unitPrice\": 300,\n",
      "            \"discount\": 30,\n",
      "            \"totalPrice\": 4050\n",
      "        },\n",
      "        {\n",
      "            \"itemNumber\": null,\n",
      "            \"description\": \"Blue and Pink Multi-Colored Hoodie\",\n",
      "            \"quantity\": 15,\n",
      "            \"unitPrice\": 300,\n",
      "            \"discount\": 30,\n",
      "            \"totalPrice\": 4050\n",
      "        },\n",
      "        {\n",
      "            \"itemNumber\": null,\n",
      "            \"description\": \"Blue and Pink Multi-Colored Hoodie\",\n",
      "            \"quantity\": 20,\n",
      "            \"unitPrice\": 300,\n",
      "            \"discount\": 30,\n",
      "            \"totalPrice\": 5400\n",
      "        }\n",
      "    ]\n",
      "}\n"
     ]
    }
   ],
   "source": [
    "print(json.dumps(json.loads(output_2), indent=4))"
   ]
  },
  {
   "cell_type": "code",
   "execution_count": 21,
   "id": "e9674967-365c-4e73-84ec-cb6595d2b06c",
   "metadata": {},
   "outputs": [],
   "source": [
    "import json"
   ]
  },
  {
   "cell_type": "code",
   "execution_count": null,
   "id": "71007b33-9251-461e-9f94-6a718e0267e7",
   "metadata": {},
   "outputs": [],
   "source": []
  }
 ],
 "metadata": {
  "kernelspec": {
   "display_name": "Python 3 (ipykernel)",
   "language": "python",
   "name": "python3"
  },
  "language_info": {
   "codemirror_mode": {
    "name": "ipython",
    "version": 3
   },
   "file_extension": ".py",
   "mimetype": "text/x-python",
   "name": "python",
   "nbconvert_exporter": "python",
   "pygments_lexer": "ipython3",
   "version": "3.12.0"
  }
 },
 "nbformat": 4,
 "nbformat_minor": 5
}
