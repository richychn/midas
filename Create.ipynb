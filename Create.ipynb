{
 "cells": [
  {
   "cell_type": "code",
   "execution_count": 28,
   "id": "8ea53160-fb2f-4f03-bae1-6ce79877859f",
   "metadata": {},
   "outputs": [],
   "source": [
    "raw_prompt = \"\"\"\n",
    "For each item that the buyer agreed to purchase, return the item name, item description, quantity purchased, unit price in dollars, unit discount in dollars, and final total price per item (quantity * (unit price - unit discount)) . Each sku of the purchased item should be treated as a separate item.\n",
    "\n",
    "Output the result in JSON format following the example below. Each line item should have its own list under lineItems. Include all non quantity and price related details of each item under its description.\n",
    "\n",
    "{ \"orderDetails\":{ \"orderDate\": \"\", \"orderNum\": null, }, \"buyer\":{ \"companyName\": \"\", \"pointOfContact\": \"\", \"contactEmail\": \"\", \"contactPhone\": \"\", \"shippingAddress\": \"\", }, \"lineItems\":[{ \"itemNumber\": null, \"description\": \"\", \"quantity\": null, \"unitPrice\": null, \"discount\": null, “totalPrice”: null}]}\n",
    "\"\"\""
   ]
  },
  {
   "cell_type": "code",
   "execution_count": 42,
   "id": "7feb5efc-a9a0-43d5-b568-a6989e05e77f",
   "metadata": {},
   "outputs": [],
   "source": [
    "raw_prompt = \"\"\"\n",
    "For each item that the buyer agreed to purchase, return the item name and item description directly under \"description\" without nesting them within another object, along with the quantity purchased, unit price in dollars, unit discount in dollars, and final total price per item calculated as (quantity * (unit price - unit discount)). Treat each SKU of the purchased item as a separate entry under \"lineItems\". \n",
    "\n",
    "Output the result in JSON format, ensuring all non-quantity and price-related details of the order and buyer are fully completed, including order number, contact phone, and shipping address. Follow the example structure below, but adjust it to directly include item name and description details under \"description\" for improved clarity and adherence to the expected output structure.\n",
    "\n",
    "{\n",
    "  \"orderDetails\": {\n",
    "    \"orderDate\": \"\",\n",
    "    \"orderNum\": \"\",\n",
    "    \"buyer\": {\n",
    "      \"companyName\": \"\",\n",
    "      \"pointOfContact\": \"\",\n",
    "      \"contactEmail\": \"\",\n",
    "      \"contactPhone\": \"\",\n",
    "      \"shippingAddress\": \"\"\n",
    "    },\n",
    "    \"lineItems\": [\n",
    "      {\n",
    "        \"itemNumber\": \"\",\n",
    "        \"description\": {\n",
    "          \"itemName\": \"\",\n",
    "          \"itemDescription\": \"\"\n",
    "        },\n",
    "        \"quantity\": \"\",\n",
    "        \"unitPrice\": \"\",\n",
    "        \"discount\": \"\",\n",
    "        \"totalPrice\": \"\"\n",
    "      }\n",
    "    ]\n",
    "  }\n",
    "}\n",
    "\"\"\""
   ]
  },
  {
   "cell_type": "code",
   "execution_count": 43,
   "id": "8ab1c0e4-9b7c-4db9-86f5-b706c93a9a70",
   "metadata": {},
   "outputs": [],
   "source": [
    "from midas.agent import Midas"
   ]
  },
  {
   "cell_type": "code",
   "execution_count": 44,
   "id": "0f6d9b0a-b07c-4483-be0f-bf44f6477a7d",
   "metadata": {},
   "outputs": [],
   "source": [
    "new_agent = Midas()"
   ]
  },
  {
   "cell_type": "code",
   "execution_count": 45,
   "id": "57aecb0f-ed2c-4d8e-a28f-6422e9099310",
   "metadata": {},
   "outputs": [],
   "source": [
    "new_agent.set_objective(raw_prompt)"
   ]
  },
  {
   "cell_type": "code",
   "execution_count": 46,
   "id": "723c6b5c-f10d-4b4c-bcce-0964ad0834c5",
   "metadata": {},
   "outputs": [],
   "source": [
    "new_agent.add_criteria(\n",
    "    [\n",
    "        {\"format\": \"the format should be outputted as a single string representing a JSON object containing no newlines\"},\n",
    "        {\"no_markdown\": \"the output should not be in markdown, it should not contain backticks\"}\n",
    "    ]\n",
    ")"
   ]
  },
  {
   "cell_type": "code",
   "execution_count": 20,
   "id": "491a651f-4212-41df-92ce-519537772d05",
   "metadata": {},
   "outputs": [],
   "source": [
    "# new_agent.save('/Users/kaihayden/Desktop/midas/first_subquery_save.json')"
   ]
  },
  {
   "cell_type": "code",
   "execution_count": 47,
   "id": "958f072c-d4e7-44c0-96dd-3b9c3a84a046",
   "metadata": {},
   "outputs": [],
   "source": [
    "new_agent.save('/Users/kaihayden/Desktop/midas/second_subquery_save.json')"
   ]
  },
  {
   "cell_type": "code",
   "execution_count": 41,
   "id": "5c8de818-8a09-4056-866c-443206bc1d94",
   "metadata": {},
   "outputs": [
    {
     "data": {
      "text/plain": [
       "Midas(\n",
       "    Agent(\n",
       "        name=,\n",
       "        language_model=,\n",
       "        embedding_model=\n",
       "    )\n",
       "    Prompt(\n",
       "        raw=\n",
       "For each item that the buyer agreed to purchase, return the item name, item description, quantity purchased, unit price in dollars, unit discount in dollars, and final total price per item (quantity * (unit price - unit discount)) . Each sku of the purchased item should be treated as a separate item.\n",
       "\n",
       "Output the result in JSON format following the example below. Each line item should have its own list under lineItems. Include all non quantity and price related details of each item under its description.\n",
       "\n",
       "{ \"orderDetails\":{ \"orderDate\": \"\", \"orderNum\": null, }, \"buyer\":{ \"companyName\": \"\", \"pointOfContact\": \"\", \"contactEmail\": \"\", \"contactPhone\": \"\", \"shippingAddress\": \"\", }, \"lineItems\":[{ \"itemNumber\": null, \"description\": \"\", \"quantity\": null, \"unitPrice\": null, \"discount\": null, “totalPrice”: null}]}\n",
       ",\n",
       "        mod=\n",
       "For each item that the buyer agreed to purchase, return the item name, item description, quantity purchased, unit price in dollars, unit discount in dollars, and final total price per item (quantity * (unit price - unit discount)) . Each sku of the purchased item should be treated as a separate item.\n",
       "\n",
       "Output the result in JSON format following the example below. Each line item should have its own list under lineItems. Include all non quantity and price related details of each item under its description.\n",
       "\n",
       "{ \"orderDetails\":{ \"orderDate\": \"\", \"orderNum\": null, }, \"buyer\":{ \"companyName\": \"\", \"pointOfContact\": \"\", \"contactEmail\": \"\", \"contactPhone\": \"\", \"shippingAddress\": \"\", }, \"lineItems\":[{ \"itemNumber\": null, \"description\": \"\", \"quantity\": null, \"unitPrice\": null, \"discount\": null, “totalPrice”: null}]}\n",
       ",\n",
       "    )\n",
       "    SubQueryStruct(\n",
       "        item_name,\n",
       "\titem_description,\n",
       "\tquantity_purchased,\n",
       "\tunit_price_in_dollars,\n",
       "\tunit_discount_in_dollars,\n",
       "\tfinal_total_price_per_item,\n",
       "\tsku_treatment_as_separate_item\n",
       "    )\n",
       "    CriteriaStruct(\n",
       "        UserCriteria(\n",
       "            format,\n",
       "\t    no_markdown\n",
       "        )\n",
       "        AgentCriteria(\n",
       "            accuracy_of_item_details,\n",
       "\t    correct_calculation_of_total_price,\n",
       "\t    correct_JSON_format,\n",
       "\t    completeness_of_order_details,\n",
       "\t    individual_treatment_of_skus,\n",
       "\t    correctness_of_lineItems_structure,\n",
       "\t    no_redundant_or_missing_information,\n",
       "\t    clarity_and_readability\n",
       "        )\n",
       "    )\n",
       ")"
      ]
     },
     "execution_count": 41,
     "metadata": {},
     "output_type": "execute_result"
    }
   ],
   "source": [
    "new_agent"
   ]
  },
  {
   "cell_type": "code",
   "execution_count": null,
   "id": "33fb314e-ab38-416f-a04b-c557a38f09a9",
   "metadata": {},
   "outputs": [],
   "source": []
  },
  {
   "cell_type": "code",
   "execution_count": null,
   "id": "fc30f4a7-d573-4e1b-814d-6df84058e416",
   "metadata": {},
   "outputs": [],
   "source": []
  },
  {
   "cell_type": "code",
   "execution_count": null,
   "id": "a615b68c-ba3b-4f2b-a3ff-22ff2c839603",
   "metadata": {},
   "outputs": [],
   "source": []
  }
 ],
 "metadata": {
  "kernelspec": {
   "display_name": "Python 3 (ipykernel)",
   "language": "python",
   "name": "python3"
  },
  "language_info": {
   "codemirror_mode": {
    "name": "ipython",
    "version": 3
   },
   "file_extension": ".py",
   "mimetype": "text/x-python",
   "name": "python",
   "nbconvert_exporter": "python",
   "pygments_lexer": "ipython3",
   "version": "3.12.0"
  }
 },
 "nbformat": 4,
 "nbformat_minor": 5
}
